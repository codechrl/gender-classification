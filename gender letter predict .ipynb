{
 "cells": [
  {
   "cell_type": "markdown",
   "metadata": {},
   "source": [
    "# Gender Predict"
   ]
  },
  {
   "cell_type": "code",
   "execution_count": null,
   "metadata": {},
   "outputs": [],
   "source": [
    "import json\n",
    "import pickle\n",
    "import numpy as np\n",
    "import pandas as pd\n",
    "import tensorflow as tf\n",
    "from keras.models import model_from_json\n",
    "from keras.preprocessing.text import Tokenizer\n",
    "from keras.preprocessing.sequence import pad_sequences"
   ]
  },
  {
   "cell_type": "markdown",
   "metadata": {},
   "source": [
    "### load tokenizer"
   ]
  },
  {
   "cell_type": "code",
   "execution_count": null,
   "metadata": {},
   "outputs": [],
   "source": [
    "# load tokenizer\n",
    "nwords=40\n",
    "tokenizer = Tokenizer(num_words=nwords)\n",
    "with open('lib/tokenizer_letter.pickle', 'rb') as handle:\n",
    "    tokenizer = pickle.load(handle) \n",
    "\n",
    "# load model\n",
    "json_file = open('lib/model_gender_letter.json', 'r')\n",
    "loaded_model_json = json_file.read()\n",
    "json_file.close()\n",
    "\n",
    "# load weights\n",
    "loaded_model = model_from_json(loaded_model_json)\n",
    "loaded_model.load_weights('lib/weights_gender_letter_cnn-lstm2.hdf5')"
   ]
  },
  {
   "cell_type": "markdown",
   "metadata": {},
   "source": [
    "### preprocess data input"
   ]
  },
  {
   "cell_type": "code",
   "execution_count": null,
   "metadata": {},
   "outputs": [],
   "source": [
    "# preprocess\n",
    "def preprocess(nama):\n",
    "    # nama lowercase\n",
    "    nama=nama.lower()\n",
    "    \n",
    "    # nama di split jadi per huruf\n",
    "    nama= list(nama)\n",
    "    \n",
    "    # nama split di input ke list, karena input fungsi pad_sequences() harus berbentuk list\n",
    "    tmp=[]\n",
    "    tmp.append(nama)\n",
    "    tmp.append(nama)\n",
    "    \n",
    "    # tokenizing\n",
    "    sequences = tokenizer.texts_to_sequences(tmp) \n",
    "    \n",
    "    #padding\n",
    "    input_seq = pad_sequences(sequences, maxlen=40)\n",
    "    return input_seq"
   ]
  },
  {
   "cell_type": "markdown",
   "metadata": {},
   "source": [
    "### fungsi predict"
   ]
  },
  {
   "cell_type": "code",
   "execution_count": null,
   "metadata": {},
   "outputs": [],
   "source": [
    "# predict\n",
    "def predict(text):\n",
    "    input=text\n",
    "    print(input)\n",
    "    \n",
    "    # preprocess\n",
    "    input=preprocess(input)\n",
    "\n",
    "    # predict classes\n",
    "    prediction = loaded_model.predict_classes(input).tolist()\n",
    "    \n",
    "    return prediction[0]"
   ]
  },
  {
   "cell_type": "markdown",
   "metadata": {},
   "source": [
    "### predict"
   ]
  },
  {
   "cell_type": "code",
   "execution_count": null,
   "metadata": {},
   "outputs": [],
   "source": [
    "# 0 = male\n",
    "# 1 = female\n",
    "nama=\"Choiril Kurniawan\"\n",
    "print(predict(nama))"
   ]
  }
 ],
 "metadata": {
  "kernelspec": {
   "display_name": "Python 3",
   "language": "python",
   "name": "python3"
  },
  "language_info": {
   "codemirror_mode": {
    "name": "ipython",
    "version": 3
   },
   "file_extension": ".py",
   "mimetype": "text/x-python",
   "name": "python",
   "nbconvert_exporter": "python",
   "pygments_lexer": "ipython3",
   "version": "3.6.8"
  }
 },
 "nbformat": 4,
 "nbformat_minor": 2
}
