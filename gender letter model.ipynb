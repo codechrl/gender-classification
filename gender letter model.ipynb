{
 "cells": [
  {
   "cell_type": "markdown",
   "metadata": {},
   "source": [
    "# Gender Prediction Model"
   ]
  },
  {
   "cell_type": "code",
   "execution_count": 1,
   "metadata": {},
   "outputs": [
    {
     "name": "stderr",
     "output_type": "stream",
     "text": [
      "Using TensorFlow backend.\n"
     ]
    }
   ],
   "source": [
    "import re\n",
    "import os\n",
    "import pandas as pd\n",
    "import numpy as np\n",
    "import multiprocessing\n",
    "import ipython_genutils\n",
    "import pickle\n",
    "import tensorflow as tf\n",
    "from keras.preprocessing.sequence import pad_sequences\n",
    "from keras.models import model_from_json\n",
    "from keras.callbacks import ModelCheckpoint\n",
    "from keras.models import Sequential\n",
    "from keras.layers import Dense, Dropout, MaxPooling1D, LSTM, GRU\n",
    "from keras.layers import Flatten\n",
    "from keras.layers import Conv1D, GlobalMaxPooling1D\n",
    "from keras.layers.embeddings import Embedding\n",
    "from sklearn.metrics import classification_report\n",
    "from sklearn import model_selection\n",
    "from sklearn import utils\n",
    "from sklearn.utils import shuffle\n",
    "from keras.preprocessing.text import Tokenizer\n",
    "from nltk.tokenize import word_tokenize\n",
    "import progressbar\n",
    "import matplotlib.pyplot as plt"
   ]
  },
  {
   "cell_type": "markdown",
   "metadata": {},
   "source": [
    "### read dataset"
   ]
  },
  {
   "cell_type": "code",
   "execution_count": 3,
   "metadata": {},
   "outputs": [
    {
     "name": "stdout",
     "output_type": "stream",
     "text": [
      "<class 'pandas.core.frame.DataFrame'>\n",
      "RangeIndex: 5773 entries, 0 to 5772\n",
      "Data columns (total 1 columns):\n",
      "name    5773 non-null object\n",
      "dtypes: object(1)\n",
      "memory usage: 45.2+ KB\n"
     ]
    },
    {
     "data": {
      "text/html": [
       "<div>\n",
       "<style scoped>\n",
       "    .dataframe tbody tr th:only-of-type {\n",
       "        vertical-align: middle;\n",
       "    }\n",
       "\n",
       "    .dataframe tbody tr th {\n",
       "        vertical-align: top;\n",
       "    }\n",
       "\n",
       "    .dataframe thead th {\n",
       "        text-align: right;\n",
       "    }\n",
       "</style>\n",
       "<table border=\"1\" class=\"dataframe\">\n",
       "  <thead>\n",
       "    <tr style=\"text-align: right;\">\n",
       "      <th></th>\n",
       "      <th>name</th>\n",
       "    </tr>\n",
       "  </thead>\n",
       "  <tbody>\n",
       "    <tr>\n",
       "      <th>0</th>\n",
       "      <td>Agus  Suciono @m</td>\n",
       "    </tr>\n",
       "    <tr>\n",
       "      <th>1</th>\n",
       "      <td>Andhien Ristu @f</td>\n",
       "    </tr>\n",
       "    <tr>\n",
       "      <th>2</th>\n",
       "      <td>Rani Dwi Astuti @f</td>\n",
       "    </tr>\n",
       "    <tr>\n",
       "      <th>3</th>\n",
       "      <td>Rya Afriyati @f</td>\n",
       "    </tr>\n",
       "    <tr>\n",
       "      <th>4</th>\n",
       "      <td>Febrian Falentino Fredriktho @m</td>\n",
       "    </tr>\n",
       "  </tbody>\n",
       "</table>\n",
       "</div>"
      ],
      "text/plain": [
       "                              name\n",
       "0                 Agus  Suciono @m\n",
       "1                 Andhien Ristu @f\n",
       "2               Rani Dwi Astuti @f\n",
       "3                  Rya Afriyati @f\n",
       "4  Febrian Falentino Fredriktho @m"
      ]
     },
     "execution_count": 3,
     "metadata": {},
     "output_type": "execute_result"
    }
   ],
   "source": [
    "df = pd.read_csv('lib/dataset',header=None,encoding = \"ISO-8859-1\")\n",
    "df=df.rename(columns={0: 'name'})\n",
    "tmp=df.name\n",
    "df.info()\n",
    "df.head()"
   ]
  },
  {
   "cell_type": "markdown",
   "metadata": {},
   "source": [
    "# Preprocess"
   ]
  },
  {
   "cell_type": "markdown",
   "metadata": {},
   "source": [
    "data tiap row di split karena nama dan gender masih dalam satu kolom"
   ]
  },
  {
   "cell_type": "code",
   "execution_count": 4,
   "metadata": {},
   "outputs": [
    {
     "name": "stderr",
     "output_type": "stream",
     "text": [
      "100%|########################################| Processed : 5773  Time:  0:00:00\n"
     ]
    }
   ],
   "source": [
    "widgets = [progressbar.Percentage(),progressbar.Bar(),\" Processed : \",progressbar.Counter(),\"  \",progressbar.ETA()]\n",
    "bar = progressbar.ProgressBar(widgets=widgets, max_value=len(df.index))\n",
    "bar.start()\n",
    "\n",
    "name=[]\n",
    "gender=[]\n",
    "for index,row in bar(df.iterrows()):\n",
    "    # split\n",
    "    tmp=row['name'].split(\"@\")\n",
    "    name.append(tmp[0])\n",
    "    gender.append(tmp[1])"
   ]
  },
  {
   "cell_type": "code",
   "execution_count": 5,
   "metadata": {},
   "outputs": [
    {
     "name": "stdout",
     "output_type": "stream",
     "text": [
      "<class 'pandas.core.frame.DataFrame'>\n",
      "RangeIndex: 5773 entries, 0 to 5772\n",
      "Data columns (total 2 columns):\n",
      "name      5773 non-null object\n",
      "gender    5773 non-null object\n",
      "dtypes: object(2)\n",
      "memory usage: 90.3+ KB\n"
     ]
    },
    {
     "data": {
      "text/html": [
       "<div>\n",
       "<style scoped>\n",
       "    .dataframe tbody tr th:only-of-type {\n",
       "        vertical-align: middle;\n",
       "    }\n",
       "\n",
       "    .dataframe tbody tr th {\n",
       "        vertical-align: top;\n",
       "    }\n",
       "\n",
       "    .dataframe thead th {\n",
       "        text-align: right;\n",
       "    }\n",
       "</style>\n",
       "<table border=\"1\" class=\"dataframe\">\n",
       "  <thead>\n",
       "    <tr style=\"text-align: right;\">\n",
       "      <th></th>\n",
       "      <th>name</th>\n",
       "      <th>gender</th>\n",
       "    </tr>\n",
       "  </thead>\n",
       "  <tbody>\n",
       "    <tr>\n",
       "      <th>0</th>\n",
       "      <td>Agus  Suciono</td>\n",
       "      <td>m</td>\n",
       "    </tr>\n",
       "    <tr>\n",
       "      <th>1</th>\n",
       "      <td>Andhien Ristu</td>\n",
       "      <td>f</td>\n",
       "    </tr>\n",
       "    <tr>\n",
       "      <th>2</th>\n",
       "      <td>Rani Dwi Astuti</td>\n",
       "      <td>f</td>\n",
       "    </tr>\n",
       "    <tr>\n",
       "      <th>3</th>\n",
       "      <td>Rya Afriyati</td>\n",
       "      <td>f</td>\n",
       "    </tr>\n",
       "    <tr>\n",
       "      <th>4</th>\n",
       "      <td>Febrian Falentino Fredriktho</td>\n",
       "      <td>m</td>\n",
       "    </tr>\n",
       "  </tbody>\n",
       "</table>\n",
       "</div>"
      ],
      "text/plain": [
       "                            name gender\n",
       "0                 Agus  Suciono       m\n",
       "1                 Andhien Ristu       f\n",
       "2               Rani Dwi Astuti       f\n",
       "3                  Rya Afriyati       f\n",
       "4  Febrian Falentino Fredriktho       m"
      ]
     },
     "execution_count": 5,
     "metadata": {},
     "output_type": "execute_result"
    }
   ],
   "source": [
    "# buat dataframe\n",
    "df=pd.DataFrame({'name':name,'gender':gender})\n",
    "df.info()\n",
    "df.head()"
   ]
  },
  {
   "cell_type": "markdown",
   "metadata": {},
   "source": [
    "cek jumlah data tiap kelas"
   ]
  },
  {
   "cell_type": "code",
   "execution_count": 6,
   "metadata": {},
   "outputs": [
    {
     "data": {
      "text/plain": [
       "gender\n",
       "0    1453\n",
       "1    4320\n",
       "Name: name, dtype: int64"
      ]
     },
     "execution_count": 6,
     "metadata": {},
     "output_type": "execute_result"
    }
   ],
   "source": [
    "# male   : 0\n",
    "# female : 1\n",
    "df['gender']=df['gender'].map({'m':0,'f':1})\n",
    "df.groupby('gender')['name'].count()"
   ]
  },
  {
   "cell_type": "markdown",
   "metadata": {},
   "source": [
    "karena tidak seimbang maka data di downsampling"
   ]
  },
  {
   "cell_type": "code",
   "execution_count": 35,
   "metadata": {},
   "outputs": [],
   "source": [
    "# shuffle dataset\n",
    "df = shuffle(df)\n",
    "\n",
    "# mengambil semua data gender male & female di 2 var berbeda\n",
    "dfm=df.query('gender == 0')\n",
    "dff=df.query('gender == 1')\n",
    "\n",
    "# min jumlah terkecil dari gender male & female\n",
    "minlen=min(len(dff),len(dfm))\n",
    "\n",
    "# ambil data male & female sebanyak nilai min\n",
    "dfm=dfm.head(minlen)\n",
    "dff=dff.head(minlen)\n",
    "\n",
    "# gabung\n",
    "data_training=pd.concat([dff.name,dfm.name])\n",
    "target=pd.concat([dff.gender,dfm.gender])"
   ]
  },
  {
   "cell_type": "markdown",
   "metadata": {},
   "source": [
    "nama di split menjadi list huruf, lalu cek nama yg terpanjang untuk nantinya digunakan dalam padding"
   ]
  },
  {
   "cell_type": "code",
   "execution_count": 42,
   "metadata": {},
   "outputs": [
    {
     "name": "stderr",
     "output_type": "stream",
     "text": [
      "100%|#######################################| Processed : 19715  Time:  0:00:06\n"
     ]
    },
    {
     "name": "stdout",
     "output_type": "stream",
     "text": [
      "max length name :  37\n"
     ]
    }
   ],
   "source": [
    "widgets = [progressbar.Percentage(),progressbar.Bar(),\" Processed : \",progressbar.Counter(),\"  \",progressbar.ETA()]\n",
    "bar = progressbar.ProgressBar(widgets=widgets, max_value=len(df.index))\n",
    "bar.start()\n",
    "\n",
    "maxleng=0\n",
    "tmp=[]\n",
    "for index,row in bar(df.iterrows()):\n",
    "    a=list(row['name'].lower())\n",
    "    tmp.append(a)\n",
    "    maxleng=max(maxleng, len(a))\n",
    "print(\"max length name : \",maxleng)"
   ]
  },
  {
   "cell_type": "markdown",
   "metadata": {},
   "source": [
    " menghapus spasi yg ada di depan nama dan di akhir nama. spasi di antara nama tidak dihapus karena spasi tsb termasuk fitur"
   ]
  },
  {
   "cell_type": "code",
   "execution_count": 44,
   "metadata": {},
   "outputs": [
    {
     "name": "stderr",
     "output_type": "stream",
     "text": [
      "100%|#######################################| Processed : 19715  Time:  0:00:00\n"
     ]
    }
   ],
   "source": [
    "widgets = [progressbar.Percentage(),progressbar.Bar(),\" Processed : \",progressbar.Counter(),\"  \",progressbar.ETA()]\n",
    "bar = progressbar.ProgressBar(widgets=widgets, max_value=len(tmp))\n",
    "bar.start()\n",
    "\n",
    "tmp2=[]\n",
    "for letter in bar(tmp):\n",
    "    for p in range(maxleng):\n",
    "        l = len(letter)\n",
    "        if letter[0]==' ':\n",
    "            del letter[0]\n",
    "        elif letter[l-1]==' ':\n",
    "            del letter[l-1]\n",
    "    tmp2.append(letter)\n",
    "data_training=tmp2"
   ]
  },
  {
   "cell_type": "code",
   "execution_count": 46,
   "metadata": {},
   "outputs": [
    {
     "data": {
      "text/plain": [
       "['n', 'u', 'r', 'h', 'a', 'y', 'a', 't', 'i']"
      ]
     },
     "execution_count": 46,
     "metadata": {},
     "output_type": "execute_result"
    }
   ],
   "source": [
    "data_training[0]"
   ]
  },
  {
   "cell_type": "markdown",
   "metadata": {},
   "source": [
    "tokenizing. mengkonversi list huruf menjadi vector angka. menggunakan tokenizer yg sudah dibuat sebelumnya dengan semua dataset. jika blm ada tokenizer maka dibuat terlabih dahulu dengan semua data, tidak di downsampling."
   ]
  },
  {
   "cell_type": "code",
   "execution_count": null,
   "metadata": {},
   "outputs": [],
   "source": [
    "#save tokenizer\n",
    "#tokenizer = Tokenizer(num_words=30)\n",
    "#tokenizer.fit_on_texts(data_training)                        \n",
    "#sequences = tokenizer.texts_to_sequences(data_training) \n",
    "#with open('tokenizer_letter.pickle', 'wb') as handle:\n",
    "#    pickle.dump(tokenizer, handle, protocol=pickle.HIGHEST_PROTOCOL)"
   ]
  },
  {
   "cell_type": "markdown",
   "metadata": {},
   "source": [
    "load tokenizer file lalu konversi"
   ]
  },
  {
   "cell_type": "code",
   "execution_count": 202,
   "metadata": {},
   "outputs": [],
   "source": [
    "nwords=30\n",
    "tokenizer = Tokenizer(num_words=nwords)\n",
    "with open('lib/tokenizer_letter.pickle', 'rb') as handle:\n",
    "    tokenizer = pickle.load(handle)                                \n",
    "sequences = tokenizer.texts_to_sequences(data_training) "
   ]
  },
  {
   "cell_type": "markdown",
   "metadata": {},
   "source": [
    "cek data hasil konevrsi"
   ]
  },
  {
   "cell_type": "code",
   "execution_count": 203,
   "metadata": {},
   "outputs": [
    {
     "data": {
      "text/plain": [
       "[13, 2, 4, 21, 7, 3, 5, 2, 1, 3, 19, 1, 5, 9, 7, 9, 7, 3]"
      ]
     },
     "execution_count": 203,
     "metadata": {},
     "output_type": "execute_result"
    }
   ],
   "source": [
    "sequences[0]"
   ]
  },
  {
   "cell_type": "code",
   "execution_count": 204,
   "metadata": {},
   "outputs": [
    {
     "name": "stdout",
     "output_type": "stream",
     "text": [
      "21\n"
     ]
    }
   ],
   "source": [
    "c=0\n",
    "mlet=0\n",
    "for x in sequences:\n",
    "    for y in sequences[c]:\n",
    "        mlet=max(mlet,y)\n",
    "print(mlet)"
   ]
  },
  {
   "cell_type": "markdown",
   "metadata": {},
   "source": [
    "padding, menyamakan length vector dengan maxlen = nama terpanjang + 3"
   ]
  },
  {
   "cell_type": "code",
   "execution_count": 205,
   "metadata": {},
   "outputs": [],
   "source": [
    "input_seq = pad_sequences(sequences, maxlen=maxleng+3)"
   ]
  },
  {
   "cell_type": "markdown",
   "metadata": {},
   "source": [
    "split dataset menjadi data training dan data validasi"
   ]
  },
  {
   "cell_type": "code",
   "execution_count": 206,
   "metadata": {},
   "outputs": [
    {
     "name": "stdout",
     "output_type": "stream",
     "text": [
      "data train\t:  13771\n",
      "data validasi\t:  3443\n"
     ]
    }
   ],
   "source": [
    "input_train, input_val, target_train, target_val = model_selection.train_test_split(input_seq,target,test_size = 0.2, random_state = 0)\n",
    "print('data train\\t: ',len(input_train))\n",
    "print('data validasi\\t: ',len(input_val),)"
   ]
  },
  {
   "cell_type": "markdown",
   "metadata": {},
   "source": [
    "cek data yg sudah di preprocess dan ready utk training"
   ]
  },
  {
   "cell_type": "code",
   "execution_count": 207,
   "metadata": {},
   "outputs": [
    {
     "data": {
      "text/plain": [
       "array([ 0,  0,  0,  0,  0,  0,  0,  0,  0,  0,  0,  0,  0,  0,  0,  0,  0,\n",
       "        0,  0,  0,  0,  0,  0,  0,  0,  0,  0,  2, 14,  1, 14,  3,  6,  1,\n",
       "        4, 23,  1, 15,  1,  3])"
      ]
     },
     "execution_count": 207,
     "metadata": {},
     "output_type": "execute_result"
    }
   ],
   "source": [
    "input_train[0]"
   ]
  },
  {
   "cell_type": "markdown",
   "metadata": {},
   "source": [
    "# Model"
   ]
  },
  {
   "cell_type": "markdown",
   "metadata": {},
   "source": [
    "training 4 model\n",
    "1. CNN\n",
    "2. LSTM\n",
    "3. CNN LSTM\n",
    "4. CNN GRU\n"
   ]
  },
  {
   "cell_type": "markdown",
   "metadata": {},
   "source": [
    "semua model menggunakan output fungsi aktivasi sigmoid, dg optimizer adam dan fungsi loss binary crossentropy."
   ]
  },
  {
   "cell_type": "markdown",
   "metadata": {},
   "source": [
    "inisiasi embed dimension, epoch dan batch size"
   ]
  },
  {
   "cell_type": "code",
   "execution_count": 208,
   "metadata": {},
   "outputs": [],
   "source": [
    "embed_dim = 128\n",
    "epoc=100\n",
    "batch_size = 32"
   ]
  },
  {
   "cell_type": "markdown",
   "metadata": {},
   "source": [
    "build model cnn"
   ]
  },
  {
   "cell_type": "code",
   "execution_count": 209,
   "metadata": {},
   "outputs": [
    {
     "name": "stdout",
     "output_type": "stream",
     "text": [
      "_________________________________________________________________\n",
      "Layer (type)                 Output Shape              Param #   \n",
      "=================================================================\n",
      "embedding_7 (Embedding)      (None, 40, 128)           5120      \n",
      "_________________________________________________________________\n",
      "conv1d_7 (Conv1D)            (None, 38, 100)           38500     \n",
      "_________________________________________________________________\n",
      "global_max_pooling1d_4 (Glob (None, 100)               0         \n",
      "_________________________________________________________________\n",
      "dense_11 (Dense)             (None, 256)               25856     \n",
      "_________________________________________________________________\n",
      "dense_12 (Dense)             (None, 1)                 257       \n",
      "=================================================================\n",
      "Total params: 69,733\n",
      "Trainable params: 69,733\n",
      "Non-trainable params: 0\n",
      "_________________________________________________________________\n"
     ]
    }
   ],
   "source": [
    "model = Sequential()\n",
    "model.add(Embedding(nwords, embed_dim,input_length = input_train.shape[1],trainable=True))\n",
    "model.add(Conv1D(filters=100, kernel_size=3, padding='valid', activation='relu', strides=1))\n",
    "model.add(GlobalMaxPooling1D())\n",
    "model.add(Dense(256, activation='relu'))\n",
    "model.add(Dense(1, activation='sigmoid'))\n",
    "model.compile(loss='binary_crossentropy', optimizer='adam', metrics=['accuracy'])\n",
    "model.summary()"
   ]
  },
  {
   "cell_type": "markdown",
   "metadata": {},
   "source": [
    "set filepath utk save weights dan set callback untuk mengevaluasi bahwa hanya jika acc naik maka weights akan di save."
   ]
  },
  {
   "cell_type": "code",
   "execution_count": 210,
   "metadata": {
    "scrolled": true
   },
   "outputs": [
    {
     "name": "stdout",
     "output_type": "stream",
     "text": [
      "Train on 13771 samples, validate on 3443 samples\n",
      "Epoch 1/100\n",
      "13771/13771 [==============================] - 19s 1ms/step - loss: 0.3666 - acc: 0.8399 - val_loss: 0.2882 - val_acc: 0.8760\n",
      "\n",
      "Epoch 00001: val_acc improved from -inf to 0.87598, saving model to weights_gender_letter_cnn.hdf5\n",
      "Epoch 2/100\n",
      "13771/13771 [==============================] - 15s 1ms/step - loss: 0.2625 - acc: 0.8907 - val_loss: 0.2613 - val_acc: 0.8885\n",
      "\n",
      "Epoch 00002: val_acc improved from 0.87598 to 0.88847, saving model to weights_gender_letter_cnn.hdf5\n",
      "Epoch 3/100\n",
      "13771/13771 [==============================] - 15s 1ms/step - loss: 0.2277 - acc: 0.9052 - val_loss: 0.2451 - val_acc: 0.8966\n",
      "\n",
      "Epoch 00003: val_acc improved from 0.88847 to 0.89660, saving model to weights_gender_letter_cnn.hdf5\n",
      "Epoch 4/100\n",
      "13771/13771 [==============================] - 15s 1ms/step - loss: 0.2046 - acc: 0.9178 - val_loss: 0.2428 - val_acc: 0.8957\n",
      "\n",
      "Epoch 00004: val_acc did not improve from 0.89660\n",
      "Epoch 5/100\n",
      "13771/13771 [==============================] - 16s 1ms/step - loss: 0.1871 - acc: 0.9241 - val_loss: 0.2421 - val_acc: 0.8998\n",
      "\n",
      "Epoch 00005: val_acc improved from 0.89660 to 0.89980, saving model to weights_gender_letter_cnn.hdf5\n",
      "Epoch 6/100\n",
      "13771/13771 [==============================] - 16s 1ms/step - loss: 0.1717 - acc: 0.9328 - val_loss: 0.2421 - val_acc: 0.9033\n",
      "\n",
      "Epoch 00006: val_acc improved from 0.89980 to 0.90328, saving model to weights_gender_letter_cnn.hdf5\n",
      "Epoch 7/100\n",
      "13771/13771 [==============================] - 16s 1ms/step - loss: 0.1592 - acc: 0.9392 - val_loss: 0.2552 - val_acc: 0.9024\n",
      "\n",
      "Epoch 00007: val_acc did not improve from 0.90328\n",
      "Epoch 8/100\n",
      "13771/13771 [==============================] - 15s 1ms/step - loss: 0.1467 - acc: 0.9434 - val_loss: 0.2618 - val_acc: 0.9053s: 0.\n",
      "\n",
      "Epoch 00008: val_acc improved from 0.90328 to 0.90532, saving model to weights_gender_letter_cnn.hdf5\n",
      "Epoch 9/100\n",
      "13771/13771 [==============================] - 16s 1ms/step - loss: 0.1374 - acc: 0.9479 - val_loss: 0.2774 - val_acc: 0.8975\n",
      "\n",
      "Epoch 00009: val_acc did not improve from 0.90532\n",
      "Epoch 10/100\n",
      "13771/13771 [==============================] - 16s 1ms/step - loss: 0.1282 - acc: 0.9524 - val_loss: 0.2902 - val_acc: 0.8931\n",
      "\n",
      "Epoch 00010: val_acc did not improve from 0.90532\n",
      "Epoch 11/100\n",
      "13771/13771 [==============================] - 15s 1ms/step - loss: 0.1277 - acc: 0.9527 - val_loss: 0.3726 - val_acc: 0.8713\n",
      "\n",
      "Epoch 00011: val_acc did not improve from 0.90532\n",
      "Epoch 12/100\n",
      "13771/13771 [==============================] - 16s 1ms/step - loss: 0.1379 - acc: 0.9468 - val_loss: 0.2913 - val_acc: 0.8963\n",
      "\n",
      "Epoch 00012: val_acc did not improve from 0.90532\n",
      "Epoch 13/100\n",
      "13771/13771 [==============================] - 16s 1ms/step - loss: 0.1250 - acc: 0.9526 - val_loss: 0.2799 - val_acc: 0.9024- a - ETA: 0s - loss: 0.127\n",
      "\n",
      "Epoch 00013: val_acc did not improve from 0.90532\n",
      "Epoch 14/100\n",
      "13771/13771 [==============================] - 15s 1ms/step - loss: 0.1120 - acc: 0.9579 - val_loss: 0.2954 - val_acc: 0.90530s - loss: 0.1128 - acc:\n",
      "\n",
      "Epoch 00014: val_acc improved from 0.90532 to 0.90532, saving model to weights_gender_letter_cnn.hdf5\n",
      "Epoch 15/100\n",
      "13771/13771 [==============================] - 16s 1ms/step - loss: 0.1017 - acc: 0.9631 - val_loss: 0.3090 - val_acc: 0.9021\n",
      "\n",
      "Epoch 00015: val_acc did not improve from 0.90532\n",
      "Epoch 16/100\n",
      "13771/13771 [==============================] - 15s 1ms/step - loss: 0.0949 - acc: 0.9669 - val_loss: 0.3305 - val_acc: 0.8978\n",
      "\n",
      "Epoch 00016: val_acc did not improve from 0.90532\n",
      "Epoch 17/100\n",
      "13771/13771 [==============================] - 15s 1ms/step - loss: 0.0906 - acc: 0.9678 - val_loss: 0.3236 - val_acc: 0.9059\n",
      "\n",
      "Epoch 00017: val_acc improved from 0.90532 to 0.90590, saving model to weights_gender_letter_cnn.hdf5\n",
      "Epoch 18/100\n",
      "13771/13771 [==============================] - 15s 1ms/step - loss: 0.0881 - acc: 0.9683 - val_loss: 0.3476 - val_acc: 0.8983\n",
      "\n",
      "Epoch 00018: val_acc did not improve from 0.90590\n",
      "Epoch 19/100\n",
      "13771/13771 [==============================] - 19s 1ms/step - loss: 0.0821 - acc: 0.9694 - val_loss: 0.3798 - val_acc: 0.8928\n",
      "\n",
      "Epoch 00019: val_acc did not improve from 0.90590\n",
      "Epoch 20/100\n",
      "13771/13771 [==============================] - 17s 1ms/step - loss: 0.0860 - acc: 0.9672 - val_loss: 0.3652 - val_acc: 0.9015\n",
      "\n",
      "Epoch 00020: val_acc did not improve from 0.90590\n",
      "Epoch 21/100\n",
      "13771/13771 [==============================] - 16s 1ms/step - loss: 0.0849 - acc: 0.9686 - val_loss: 0.3680 - val_acc: 0.9021\n",
      "\n",
      "Epoch 00021: val_acc did not improve from 0.90590\n",
      "Epoch 22/100\n",
      "13771/13771 [==============================] - 16s 1ms/step - loss: 0.0817 - acc: 0.9700 - val_loss: 0.3740 - val_acc: 0.9001\n",
      "\n",
      "Epoch 00022: val_acc did not improve from 0.90590\n",
      "Epoch 23/100\n",
      "13771/13771 [==============================] - 16s 1ms/step - loss: 0.0718 - acc: 0.9729 - val_loss: 0.3791 - val_acc: 0.9059\n",
      "\n",
      "Epoch 00023: val_acc improved from 0.90590 to 0.90590, saving model to weights_gender_letter_cnn.hdf5\n",
      "Epoch 24/100\n",
      "13771/13771 [==============================] - 16s 1ms/step - loss: 0.0650 - acc: 0.9765 - val_loss: 0.4033 - val_acc: 0.8998\n",
      "\n",
      "Epoch 00024: val_acc did not improve from 0.90590\n",
      "Epoch 25/100\n",
      "13771/13771 [==============================] - 17s 1ms/step - loss: 0.0694 - acc: 0.9743 - val_loss: 0.4059 - val_acc: 0.9024\n",
      "\n",
      "Epoch 00025: val_acc did not improve from 0.90590\n",
      "Epoch 26/100\n",
      "13771/13771 [==============================] - 18s 1ms/step - loss: 0.0739 - acc: 0.9710 - val_loss: 0.4021 - val_acc: 0.8989\n",
      "\n",
      "Epoch 00026: val_acc did not improve from 0.90590\n",
      "Epoch 27/100\n",
      "13771/13771 [==============================] - 18s 1ms/step - loss: 0.0815 - acc: 0.9675 - val_loss: 0.3932 - val_acc: 0.8972\n",
      "\n",
      "Epoch 00027: val_acc did not improve from 0.90590\n",
      "Epoch 28/100\n",
      "13771/13771 [==============================] - 17s 1ms/step - loss: 0.0742 - acc: 0.9715 - val_loss: 0.4739 - val_acc: 0.8917\n",
      "\n",
      "Epoch 00028: val_acc did not improve from 0.90590\n",
      "Epoch 29/100\n",
      "13771/13771 [==============================] - 17s 1ms/step - loss: 0.0666 - acc: 0.9747 - val_loss: 0.4577 - val_acc: 0.8963  - ETA: 0s - loss: 0.0659 - \n",
      "\n",
      "Epoch 00029: val_acc did not improve from 0.90590\n",
      "Epoch 30/100\n",
      "13771/13771 [==============================] - 17s 1ms/step - loss: 0.0613 - acc: 0.9781 - val_loss: 0.5353 - val_acc: 0.8876\n",
      "\n",
      "Epoch 00030: val_acc did not improve from 0.90590\n",
      "Epoch 31/100\n",
      "13771/13771 [==============================] - 15s 1ms/step - loss: 0.0661 - acc: 0.9763 - val_loss: 0.3974 - val_acc: 0.9047\n",
      "\n",
      "Epoch 00031: val_acc did not improve from 0.90590\n",
      "Epoch 32/100\n",
      "13771/13771 [==============================] - 15s 1ms/step - loss: 0.0622 - acc: 0.9771 - val_loss: 0.4232 - val_acc: 0.9053\n",
      "\n",
      "Epoch 00032: val_acc did not improve from 0.90590\n",
      "Epoch 33/100\n",
      "13771/13771 [==============================] - 15s 1ms/step - loss: 0.0661 - acc: 0.9736 - val_loss: 0.4676 - val_acc: 0.8989\n",
      "\n",
      "Epoch 00033: val_acc did not improve from 0.90590\n",
      "Epoch 34/100\n",
      "13771/13771 [==============================] - 16s 1ms/step - loss: 0.0713 - acc: 0.9712 - val_loss: 0.4180 - val_acc: 0.9042- loss\n",
      "\n",
      "Epoch 00034: val_acc did not improve from 0.90590\n",
      "Epoch 35/100\n",
      "13771/13771 [==============================] - 15s 1ms/step - loss: 0.0654 - acc: 0.9736 - val_loss: 0.4379 - val_acc: 0.8978\n",
      "\n",
      "Epoch 00035: val_acc did not improve from 0.90590\n",
      "Epoch 36/100\n",
      "13771/13771 [==============================] - 15s 1ms/step - loss: 0.0629 - acc: 0.9764 - val_loss: 0.4735 - val_acc: 0.8882\n",
      "\n",
      "Epoch 00036: val_acc did not improve from 0.90590\n",
      "Epoch 37/100\n",
      "13771/13771 [==============================] - 15s 1ms/step - loss: 0.0538 - acc: 0.9792 - val_loss: 0.4655 - val_acc: 0.8983\n",
      "\n",
      "Epoch 00037: val_acc did not improve from 0.90590\n",
      "Epoch 38/100\n",
      "13771/13771 [==============================] - 16s 1ms/step - loss: 0.0480 - acc: 0.9819 - val_loss: 0.4764 - val_acc: 0.9059s - loss: 0.0489 - acc:\n",
      "\n",
      "Epoch 00038: val_acc did not improve from 0.90590\n",
      "Epoch 39/100\n",
      "13771/13771 [==============================] - 15s 1ms/step - loss: 0.0533 - acc: 0.9806 - val_loss: 0.4814 - val_acc: 0.9004\n",
      "\n",
      "Epoch 00039: val_acc did not improve from 0.90590\n",
      "Epoch 40/100\n",
      "13771/13771 [==============================] - 15s 1ms/step - loss: 0.0549 - acc: 0.9796 - val_loss: 0.4811 - val_acc: 0.8981\n",
      "\n",
      "Epoch 00040: val_acc did not improve from 0.90590\n",
      "Epoch 41/100\n"
     ]
    },
    {
     "name": "stdout",
     "output_type": "stream",
     "text": [
      "13771/13771 [==============================] - 15s 1ms/step - loss: 0.0514 - acc: 0.9811 - val_loss: 0.4778 - val_acc: 0.9033\n",
      "\n",
      "Epoch 00041: val_acc did not improve from 0.90590\n",
      "Epoch 42/100\n",
      "13771/13771 [==============================] - 15s 1ms/step - loss: 0.0512 - acc: 0.9814 - val_loss: 0.4445 - val_acc: 0.9036\n",
      "\n",
      "Epoch 00042: val_acc did not improve from 0.90590\n",
      "Epoch 43/100\n",
      "13771/13771 [==============================] - 16s 1ms/step - loss: 0.0467 - acc: 0.9826 - val_loss: 0.4545 - val_acc: 0.8989\n",
      "\n",
      "Epoch 00043: val_acc did not improve from 0.90590\n",
      "Epoch 44/100\n",
      "13771/13771 [==============================] - 15s 1ms/step - loss: 0.0490 - acc: 0.9823 - val_loss: 0.4591 - val_acc: 0.9015\n",
      "\n",
      "Epoch 00044: val_acc did not improve from 0.90590\n",
      "Epoch 45/100\n",
      "13771/13771 [==============================] - 15s 1ms/step - loss: 0.0479 - acc: 0.9824 - val_loss: 0.5083 - val_acc: 0.8969- loss: 0.0491 - acc: 0.9 \n",
      "\n",
      "Epoch 00045: val_acc did not improve from 0.90590\n",
      "Epoch 46/100\n",
      "13771/13771 [==============================] - 15s 1ms/step - loss: 0.0478 - acc: 0.9837 - val_loss: 0.5393 - val_acc: 0.8972\n",
      "\n",
      "Epoch 00046: val_acc did not improve from 0.90590\n",
      "Epoch 47/100\n",
      "13771/13771 [==============================] - 15s 1ms/step - loss: 0.0413 - acc: 0.9844 - val_loss: 0.5208 - val_acc: 0.9065\n",
      "\n",
      "Epoch 00047: val_acc improved from 0.90590 to 0.90648, saving model to weights_gender_letter_cnn.hdf5\n",
      "Epoch 48/100\n",
      "13771/13771 [==============================] - 15s 1ms/step - loss: 0.0457 - acc: 0.9834 - val_loss: 0.4868 - val_acc: 0.9024\n",
      "\n",
      "Epoch 00048: val_acc did not improve from 0.90648\n",
      "Epoch 49/100\n",
      "13771/13771 [==============================] - 15s 1ms/step - loss: 0.0389 - acc: 0.9866 - val_loss: 0.5180 - val_acc: 0.9082\n",
      "\n",
      "Epoch 00049: val_acc improved from 0.90648 to 0.90822, saving model to weights_gender_letter_cnn.hdf5\n",
      "Epoch 50/100\n",
      "13771/13771 [==============================] - 15s 1ms/step - loss: 0.0316 - acc: 0.9886 - val_loss: 0.5459 - val_acc: 0.9027\n",
      "\n",
      "Epoch 00050: val_acc did not improve from 0.90822\n",
      "Epoch 51/100\n",
      "13771/13771 [==============================] - 15s 1ms/step - loss: 0.0302 - acc: 0.9893 - val_loss: 0.5390 - val_acc: 0.9071\n",
      "\n",
      "Epoch 00051: val_acc did not improve from 0.90822\n",
      "Epoch 52/100\n",
      "13771/13771 [==============================] - 15s 1ms/step - loss: 0.0302 - acc: 0.9895 - val_loss: 0.5588 - val_acc: 0.9024\n",
      "\n",
      "Epoch 00052: val_acc did not improve from 0.90822\n",
      "Epoch 53/100\n",
      "13771/13771 [==============================] - 15s 1ms/step - loss: 0.0332 - acc: 0.9872 - val_loss: 0.5228 - val_acc: 0.9056\n",
      "\n",
      "Epoch 00053: val_acc did not improve from 0.90822\n",
      "Epoch 54/100\n",
      "13771/13771 [==============================] - 15s 1ms/step - loss: 0.0307 - acc: 0.9901 - val_loss: 0.5030 - val_acc: 0.9018\n",
      "\n",
      "Epoch 00054: val_acc did not improve from 0.90822\n",
      "Epoch 55/100\n",
      "13771/13771 [==============================] - 15s 1ms/step - loss: 0.0291 - acc: 0.9895 - val_loss: 0.5328 - val_acc: 0.8972\n",
      "\n",
      "Epoch 00055: val_acc did not improve from 0.90822\n",
      "Epoch 56/100\n",
      "13771/13771 [==============================] - 15s 1ms/step - loss: 0.0351 - acc: 0.9878 - val_loss: 0.5532 - val_acc: 0.9073\n",
      "\n",
      "Epoch 00056: val_acc did not improve from 0.90822\n",
      "Epoch 57/100\n",
      "13771/13771 [==============================] - 15s 1ms/step - loss: 0.0303 - acc: 0.9888 - val_loss: 0.5044 - val_acc: 0.9030\n",
      "\n",
      "Epoch 00057: val_acc did not improve from 0.90822\n",
      "Epoch 58/100\n",
      "13771/13771 [==============================] - 15s 1ms/step - loss: 0.0326 - acc: 0.9884 - val_loss: 0.6023 - val_acc: 0.8951\n",
      "\n",
      "Epoch 00058: val_acc did not improve from 0.90822\n",
      "Epoch 59/100\n",
      "13771/13771 [==============================] - 15s 1ms/step - loss: 0.0325 - acc: 0.9879 - val_loss: 0.6100 - val_acc: 0.8963\n",
      "\n",
      "Epoch 00059: val_acc did not improve from 0.90822\n",
      "Epoch 60/100\n",
      "13771/13771 [==============================] - 15s 1ms/step - loss: 0.0271 - acc: 0.9905 - val_loss: 0.6238 - val_acc: 0.8995\n",
      "\n",
      "Epoch 00060: val_acc did not improve from 0.90822\n",
      "Epoch 61/100\n",
      "13771/13771 [==============================] - 15s 1ms/step - loss: 0.0202 - acc: 0.9927 - val_loss: 0.5873 - val_acc: 0.9076\n",
      "\n",
      "Epoch 00061: val_acc did not improve from 0.90822\n",
      "Epoch 62/100\n",
      "13771/13771 [==============================] - 15s 1ms/step - loss: 0.0234 - acc: 0.9914 - val_loss: 0.5925 - val_acc: 0.9056\n",
      "\n",
      "Epoch 00062: val_acc did not improve from 0.90822\n",
      "Epoch 63/100\n",
      "13771/13771 [==============================] - 15s 1ms/step - loss: 0.0264 - acc: 0.9907 - val_loss: 0.6232 - val_acc: 0.9024\n",
      "\n",
      "Epoch 00063: val_acc did not improve from 0.90822\n",
      "Epoch 64/100\n",
      "13771/13771 [==============================] - 15s 1ms/step - loss: 0.0208 - acc: 0.9929 - val_loss: 0.5877 - val_acc: 0.9015\n",
      "\n",
      "Epoch 00064: val_acc did not improve from 0.90822\n",
      "Epoch 65/100\n",
      "13771/13771 [==============================] - 15s 1ms/step - loss: 0.0236 - acc: 0.9907 - val_loss: 0.5744 - val_acc: 0.9030\n",
      "\n",
      "Epoch 00065: val_acc did not improve from 0.90822\n",
      "Epoch 66/100\n",
      "13771/13771 [==============================] - 15s 1ms/step - loss: 0.0182 - acc: 0.9938 - val_loss: 0.5937 - val_acc: 0.9015\n",
      "\n",
      "Epoch 00066: val_acc did not improve from 0.90822\n",
      "Epoch 67/100\n",
      "13771/13771 [==============================] - 15s 1ms/step - loss: 0.0212 - acc: 0.9926 - val_loss: 0.5974 - val_acc: 0.9044\n",
      "\n",
      "Epoch 00067: val_acc did not improve from 0.90822\n",
      "Epoch 68/100\n",
      "13771/13771 [==============================] - 15s 1ms/step - loss: 0.0230 - acc: 0.9915 - val_loss: 0.7085 - val_acc: 0.8925\n",
      "\n",
      "Epoch 00068: val_acc did not improve from 0.90822\n",
      "Epoch 69/100\n",
      "13771/13771 [==============================] - 15s 1ms/step - loss: 0.0239 - acc: 0.9916 - val_loss: 0.6386 - val_acc: 0.9010\n",
      "\n",
      "Epoch 00069: val_acc did not improve from 0.90822\n",
      "Epoch 70/100\n",
      "13771/13771 [==============================] - 15s 1ms/step - loss: 0.0254 - acc: 0.9901 - val_loss: 0.5957 - val_acc: 0.8998s: 0.0250 - acc:\n",
      "\n",
      "Epoch 00070: val_acc did not improve from 0.90822\n",
      "Epoch 71/100\n",
      "13771/13771 [==============================] - 15s 1ms/step - loss: 0.0216 - acc: 0.9924 - val_loss: 0.6596 - val_acc: 0.8998\n",
      "\n",
      "Epoch 00071: val_acc did not improve from 0.90822\n",
      "Epoch 72/100\n",
      "13771/13771 [==============================] - 15s 1ms/step - loss: 0.0227 - acc: 0.9914 - val_loss: 0.6483 - val_acc: 0.9010\n",
      "\n",
      "Epoch 00072: val_acc did not improve from 0.90822\n",
      "Epoch 73/100\n",
      "13771/13771 [==============================] - 15s 1ms/step - loss: 0.0229 - acc: 0.9923 - val_loss: 0.5585 - val_acc: 0.9056\n",
      "\n",
      "Epoch 00073: val_acc did not improve from 0.90822\n",
      "Epoch 74/100\n",
      "13771/13771 [==============================] - 15s 1ms/step - loss: 0.0183 - acc: 0.9929 - val_loss: 0.5996 - val_acc: 0.9001\n",
      "\n",
      "Epoch 00074: val_acc did not improve from 0.90822\n",
      "Epoch 75/100\n",
      "13771/13771 [==============================] - 15s 1ms/step - loss: 0.0169 - acc: 0.9936 - val_loss: 0.6119 - val_acc: 0.8989\n",
      "\n",
      "Epoch 00075: val_acc did not improve from 0.90822\n",
      "Epoch 76/100\n",
      "13771/13771 [==============================] - 15s 1ms/step - loss: 0.0171 - acc: 0.9930 - val_loss: 0.6238 - val_acc: 0.9053\n",
      "\n",
      "Epoch 00076: val_acc did not improve from 0.90822\n",
      "Epoch 77/100\n",
      "13771/13771 [==============================] - 15s 1ms/step - loss: 0.0235 - acc: 0.9916 - val_loss: 0.6839 - val_acc: 0.9004c: 0.\n",
      "\n",
      "Epoch 00077: val_acc did not improve from 0.90822\n",
      "Epoch 78/100\n",
      "13771/13771 [==============================] - 15s 1ms/step - loss: 0.0185 - acc: 0.9933 - val_loss: 0.6545 - val_acc: 0.9073\n",
      "\n",
      "Epoch 00078: val_acc did not improve from 0.90822\n",
      "Epoch 79/100\n",
      "13771/13771 [==============================] - 15s 1ms/step - loss: 0.0176 - acc: 0.9932 - val_loss: 0.6341 - val_acc: 0.9024\n",
      "\n",
      "Epoch 00079: val_acc did not improve from 0.90822\n",
      "Epoch 80/100\n",
      "13771/13771 [==============================] - 15s 1ms/step - loss: 0.0172 - acc: 0.9939 - val_loss: 0.6856 - val_acc: 0.9033\n",
      "\n",
      "Epoch 00080: val_acc did not improve from 0.90822\n",
      "Epoch 81/100\n",
      "13771/13771 [==============================] - 15s 1ms/step - loss: 0.0234 - acc: 0.9914 - val_loss: 0.6950 - val_acc: 0.8917\n",
      "\n",
      "Epoch 00081: val_acc did not improve from 0.90822\n",
      "Epoch 82/100\n",
      "13771/13771 [==============================] - 15s 1ms/step - loss: 0.0218 - acc: 0.9929 - val_loss: 0.6949 - val_acc: 0.8914\n",
      "\n",
      "Epoch 00082: val_acc did not improve from 0.90822\n",
      "Epoch 83/100\n",
      "13771/13771 [==============================] - 15s 1ms/step - loss: 0.0259 - acc: 0.9906 - val_loss: 0.6421 - val_acc: 0.9033\n",
      "\n",
      "Epoch 00083: val_acc did not improve from 0.90822\n",
      "Epoch 84/100\n",
      "13771/13771 [==============================] - 15s 1ms/step - loss: 0.0219 - acc: 0.9923 - val_loss: 0.6925 - val_acc: 0.9094\n",
      "\n",
      "Epoch 00084: val_acc improved from 0.90822 to 0.90938, saving model to weights_gender_letter_cnn.hdf5\n",
      "Epoch 85/100\n",
      "13771/13771 [==============================] - 15s 1ms/step - loss: 0.0187 - acc: 0.9929 - val_loss: 0.6412 - val_acc: 0.9073\n",
      "\n",
      "Epoch 00085: val_acc did not improve from 0.90938\n",
      "Epoch 86/100\n",
      "13771/13771 [==============================] - 15s 1ms/step - loss: 0.0130 - acc: 0.9952 - val_loss: 0.7146 - val_acc: 0.90242s - loss: 0. - ETA: 1s - loss: 0.0131 - acc: 0.99 - ETA: 1s - loss\n",
      "\n",
      "Epoch 00086: val_acc did not improve from 0.90938\n",
      "Epoch 87/100\n",
      "13771/13771 [==============================] - 15s 1ms/step - loss: 0.0244 - acc: 0.9922 - val_loss: 0.6050 - val_acc: 0.9079\n",
      "\n",
      "Epoch 00087: val_acc did not improve from 0.90938\n",
      "Epoch 88/100\n",
      "13771/13771 [==============================] - 15s 1ms/step - loss: 0.0181 - acc: 0.9937 - val_loss: 0.7438 - val_acc: 0.8960\n",
      "\n",
      "Epoch 00088: val_acc did not improve from 0.90938\n",
      "Epoch 89/100\n",
      "13771/13771 [==============================] - 15s 1ms/step - loss: 0.0146 - acc: 0.9947 - val_loss: 0.7675 - val_acc: 0.8951\n",
      "\n",
      "Epoch 00089: val_acc did not improve from 0.90938\n",
      "Epoch 90/100\n",
      "13771/13771 [==============================] - 15s 1ms/step - loss: 0.0244 - acc: 0.9902 - val_loss: 0.6597 - val_acc: 0.8998\n",
      "\n",
      "Epoch 00090: val_acc did not improve from 0.90938\n",
      "Epoch 91/100\n",
      "13771/13771 [==============================] - 15s 1ms/step - loss: 0.0209 - acc: 0.9919 - val_loss: 0.7539 - val_acc: 0.8911\n",
      "\n",
      "Epoch 00091: val_acc did not improve from 0.90938\n",
      "Epoch 92/100\n",
      "13771/13771 [==============================] - 15s 1ms/step - loss: 0.0190 - acc: 0.9935 - val_loss: 0.5601 - val_acc: 0.9073\n",
      "\n",
      "Epoch 00092: val_acc did not improve from 0.90938\n",
      "Epoch 93/100\n",
      "13771/13771 [==============================] - 15s 1ms/step - loss: 0.0259 - acc: 0.9914 - val_loss: 0.6263 - val_acc: 0.8975\n",
      "\n",
      "Epoch 00093: val_acc did not improve from 0.90938\n",
      "Epoch 94/100\n",
      "13771/13771 [==============================] - 15s 1ms/step - loss: 0.0183 - acc: 0.9933 - val_loss: 0.6910 - val_acc: 0.9004\n",
      "\n",
      "Epoch 00094: val_acc did not improve from 0.90938\n",
      "Epoch 95/100\n",
      "13771/13771 [==============================] - 15s 1ms/step - loss: 0.0181 - acc: 0.9935 - val_loss: 0.5823 - val_acc: 0.9073\n",
      "\n",
      "Epoch 00095: val_acc did not improve from 0.90938\n",
      "Epoch 96/100\n",
      "13771/13771 [==============================] - 15s 1ms/step - loss: 0.0164 - acc: 0.9936 - val_loss: 0.7220 - val_acc: 0.9027\n",
      "\n",
      "Epoch 00096: val_acc did not improve from 0.90938\n",
      "Epoch 97/100\n",
      "13771/13771 [==============================] - 15s 1ms/step - loss: 0.0092 - acc: 0.9964 - val_loss: 0.8172 - val_acc: 0.8914\n",
      "\n",
      "Epoch 00097: val_acc did not improve from 0.90938\n",
      "Epoch 98/100\n",
      "13771/13771 [==============================] - 15s 1ms/step - loss: 0.0155 - acc: 0.9947 - val_loss: 0.7230 - val_acc: 0.8951\n",
      "\n",
      "Epoch 00098: val_acc did not improve from 0.90938\n",
      "Epoch 99/100\n",
      "13771/13771 [==============================] - 16s 1ms/step - loss: 0.0185 - acc: 0.9934 - val_loss: 0.6355 - val_acc: 0.9044\n",
      "\n",
      "Epoch 00099: val_acc did not improve from 0.90938\n",
      "Epoch 100/100\n",
      "13771/13771 [==============================] - 15s 1ms/step - loss: 0.0157 - acc: 0.9947 - val_loss: 0.8411 - val_acc: 0.8870\n",
      "\n",
      "Epoch 00100: val_acc did not improve from 0.90938\n"
     ]
    }
   ],
   "source": [
    "filepath=\"weights_gender_letter_cnn.hdf5\"\n",
    "checkpoint = ModelCheckpoint(filepath, monitor='val_acc', verbose=1, save_best_only=True, mode='max')\n",
    "callbacks_list = [checkpoint]\n",
    "history=model.fit(input_train, target_train,validation_data=(input_val, target_val), shuffle=False, epochs=epoc, batch_size=batch_size,callbacks=callbacks_list)"
   ]
  },
  {
   "cell_type": "markdown",
   "metadata": {},
   "source": [
    "score acc"
   ]
  },
  {
   "cell_type": "code",
   "execution_count": 211,
   "metadata": {},
   "outputs": [
    {
     "name": "stdout",
     "output_type": "stream",
     "text": [
      "3443/3443 [==============================] - 1s 329us/step\n",
      "\n",
      "acc: 90.94%\n"
     ]
    }
   ],
   "source": [
    "model.load_weights('weights_gender_letter_cnn.hdf5')\n",
    "scores = model.evaluate(input_val, target_val)\n",
    "print(\"\\n%s: %.2f%%\" % (model.metrics_names[1], scores[1]*100))"
   ]
  },
  {
   "cell_type": "code",
   "execution_count": 212,
   "metadata": {},
   "outputs": [
    {
     "name": "stdout",
     "output_type": "stream",
     "text": [
      "              precision    recall  f1-score   support\n",
      "\n",
      "      female       0.90      0.92      0.91      1738\n",
      "        male       0.92      0.90      0.91      1705\n",
      "\n",
      "   micro avg       0.91      0.91      0.91      3443\n",
      "   macro avg       0.91      0.91      0.91      3443\n",
      "weighted avg       0.91      0.91      0.91      3443\n",
      "\n"
     ]
    }
   ],
   "source": [
    "from sklearn.metrics import classification_report\n",
    "predict = model.predict_classes(input_val)\n",
    "y_true = target_val\n",
    "y_pred = predict\n",
    "target_names = ['male', 'female',]\n",
    "print (classification_report(y_true, y_pred, target_names=target_names))"
   ]
  },
  {
   "cell_type": "markdown",
   "metadata": {},
   "source": [
    "plot acc dan loss"
   ]
  },
  {
   "cell_type": "code",
   "execution_count": 213,
   "metadata": {},
   "outputs": [
    {
     "data": {
      "image/png": "[encoded data removed]",
      "text/plain": [
       "<Figure size 432x288 with 1 Axes>"
      ]
     },
     "metadata": {
      "needs_background": "light"
     },
     "output_type": "display_data"
    }
   ],
   "source": [
    "# Plot training & validation accuracy values\n",
    "plt.plot(history.history['acc'])\n",
    "plt.plot(history.history['val_acc'])\n",
    "plt.title('Model accuracy')\n",
    "plt.ylabel('Accuracy')\n",
    "plt.xlabel('Epoch')\n",
    "plt.legend(['Train', 'Test'], loc='upper left')\n",
    "plt.show()"
   ]
  },
  {
   "cell_type": "code",
   "execution_count": 214,
   "metadata": {},
   "outputs": [
    {
     "data": {
      "image/png": "[encoded data removed]",
      "text/plain": [
       "<Figure size 432x288 with 1 Axes>"
      ]
     },
     "metadata": {
      "needs_background": "light"
     },
     "output_type": "display_data"
    }
   ],
   "source": [
    "# Plot training & validation loss values\n",
    "plt.plot(history.history['loss'])\n",
    "plt.plot(history.history['val_loss'])\n",
    "plt.title('Model loss')\n",
    "plt.ylabel('Loss')\n",
    "plt.xlabel('Epoch')\n",
    "plt.legend(['Train', 'Test'], loc='upper left')\n",
    "plt.show()"
   ]
  },
  {
   "cell_type": "markdown",
   "metadata": {},
   "source": [
    "build model lstm"
   ]
  },
  {
   "cell_type": "code",
   "execution_count": 240,
   "metadata": {},
   "outputs": [
    {
     "name": "stdout",
     "output_type": "stream",
     "text": [
      "_________________________________________________________________\n",
      "Layer (type)                 Output Shape              Param #   \n",
      "=================================================================\n",
      "embedding_12 (Embedding)     (None, 40, 128)           5120      \n",
      "_________________________________________________________________\n",
      "dropout_24 (Dropout)         (None, 40, 128)           0         \n",
      "_________________________________________________________________\n",
      "lstm_11 (LSTM)               (None, 40, 100)           91600     \n",
      "_________________________________________________________________\n",
      "dropout_25 (Dropout)         (None, 40, 100)           0         \n",
      "_________________________________________________________________\n",
      "lstm_12 (LSTM)               (None, 100)               80400     \n",
      "_________________________________________________________________\n",
      "dropout_26 (Dropout)         (None, 100)               0         \n",
      "_________________________________________________________________\n",
      "dense_18 (Dense)             (None, 1)                 101       \n",
      "=================================================================\n",
      "Total params: 177,221\n",
      "Trainable params: 177,221\n",
      "Non-trainable params: 0\n",
      "_________________________________________________________________\n"
     ]
    }
   ],
   "source": [
    "model = Sequential()\n",
    "model.add(Embedding(nwords, embed_dim,input_length = input_train.shape[1],trainable=True))\n",
    "model.add(Dropout(0.2))\n",
    "model.add(LSTM(100, return_sequences=True))\n",
    "model.add(Dropout(0.2))\n",
    "model.add(LSTM(100, return_sequences=False))\n",
    "model.add(Dropout(0.2))\n",
    "model.add(Dense(1, activation='sigmoid'))\n",
    "model.compile(loss='binary_crossentropy', optimizer='adam',metrics=['accuracy'])\n",
    "model.summary()"
   ]
  },
  {
   "cell_type": "markdown",
   "metadata": {},
   "source": [
    "set filepath utk save weights dan set callback untuk mengevaluasi bahwa hanya jika acc naik maka weights akan di save."
   ]
  },
  {
   "cell_type": "code",
   "execution_count": 242,
   "metadata": {
    "scrolled": true
   },
   "outputs": [
    {
     "name": "stdout",
     "output_type": "stream",
     "text": [
      "Train on 13771 samples, validate on 3443 samples\n",
      "Epoch 1/100\n",
      "13771/13771 [==============================] - 104s 8ms/step - loss: 0.5242 - acc: 0.7419 - val_loss: 0.4471 - val_acc: 0.7886\n",
      "\n",
      "Epoch 00001: val_acc improved from -inf to 0.78856, saving model to weights_gender_letter_lstm.hdf5\n",
      "Epoch 2/100\n",
      "13771/13771 [==============================] - 90s 7ms/step - loss: 0.3890 - acc: 0.8230 - val_loss: 0.3281 - val_acc: 0.8617\n",
      "\n",
      "Epoch 00002: val_acc improved from 0.78856 to 0.86175, saving model to weights_gender_letter_lstm.hdf5\n",
      "Epoch 3/100\n",
      "13771/13771 [==============================] - 89s 6ms/step - loss: 0.3166 - acc: 0.8673 - val_loss: 0.2887 - val_acc: 0.8821\n",
      "\n",
      "Epoch 00003: val_acc improved from 0.86175 to 0.88208, saving model to weights_gender_letter_lstm.hdf5\n",
      "Epoch 4/100\n",
      "13771/13771 [==============================] - 89s 6ms/step - loss: 0.2841 - acc: 0.8836 - val_loss: 0.2660 - val_acc: 0.8902\n",
      "\n",
      "Epoch 00004: val_acc improved from 0.88208 to 0.89021, saving model to weights_gender_letter_lstm.hdf5\n",
      "Epoch 5/100\n",
      "13771/13771 [==============================] - 100s 7ms/step - loss: 0.2593 - acc: 0.8938 - val_loss: 0.2546 - val_acc: 0.8983\n",
      "\n",
      "Epoch 00005: val_acc improved from 0.89021 to 0.89834, saving model to weights_gender_letter_lstm.hdf5\n",
      "Epoch 6/100\n",
      "13771/13771 [==============================] - 93s 7ms/step - loss: 0.2379 - acc: 0.9047 - val_loss: 0.2417 - val_acc: 0.8992\n",
      "\n",
      "Epoch 00006: val_acc improved from 0.89834 to 0.89922, saving model to weights_gender_letter_lstm.hdf5\n",
      "Epoch 7/100\n",
      "13771/13771 [==============================] - 93s 7ms/step - loss: 0.2178 - acc: 0.9123 - val_loss: 0.2427 - val_acc: 0.9036\n",
      "\n",
      "Epoch 00007: val_acc improved from 0.89922 to 0.90357, saving model to weights_gender_letter_lstm.hdf5\n",
      "Epoch 8/100\n",
      "13771/13771 [==============================] - 91s 7ms/step - loss: 0.2002 - acc: 0.9192 - val_loss: 0.2291 - val_acc: 0.9091\n",
      "\n",
      "Epoch 00008: val_acc improved from 0.90357 to 0.90909, saving model to weights_gender_letter_lstm.hdf5\n",
      "Epoch 9/100\n",
      "13771/13771 [==============================] - 85s 6ms/step - loss: 0.1856 - acc: 0.9265 - val_loss: 0.2285 - val_acc: 0.9114\n",
      "\n",
      "Epoch 00009: val_acc improved from 0.90909 to 0.91141, saving model to weights_gender_letter_lstm.hdf5\n",
      "Epoch 10/100\n",
      "13771/13771 [==============================] - 89s 6ms/step - loss: 0.1719 - acc: 0.9307 - val_loss: 0.2272 - val_acc: 0.9126\n",
      "\n",
      "Epoch 00010: val_acc improved from 0.91141 to 0.91258, saving model to weights_gender_letter_lstm.hdf5\n",
      "Epoch 11/100\n",
      "13771/13771 [==============================] - 90s 7ms/step - loss: 0.1566 - acc: 0.9396 - val_loss: 0.2293 - val_acc: 0.9137\n",
      "\n",
      "Epoch 00011: val_acc improved from 0.91258 to 0.91374, saving model to weights_gender_letter_lstm.hdf5\n",
      "Epoch 12/100\n",
      "13771/13771 [==============================] - 97s 7ms/step - loss: 0.1412 - acc: 0.9445 - val_loss: 0.2341 - val_acc: 0.9161\n",
      "\n",
      "Epoch 00012: val_acc improved from 0.91374 to 0.91606, saving model to weights_gender_letter_lstm.hdf5\n",
      "Epoch 13/100\n",
      "13771/13771 [==============================] - 106s 8ms/step - loss: 0.1308 - acc: 0.9497 - val_loss: 0.2473 - val_acc: 0.9146\n",
      "\n",
      "Epoch 00013: val_acc did not improve from 0.91606\n",
      "Epoch 14/100\n",
      "13771/13771 [==============================] - 96s 7ms/step - loss: 0.1188 - acc: 0.9542 - val_loss: 0.2449 - val_acc: 0.9152\n",
      "\n",
      "Epoch 00014: val_acc did not improve from 0.91606\n",
      "Epoch 15/100\n",
      "13771/13771 [==============================] - 102s 7ms/step - loss: 0.1015 - acc: 0.9617 - val_loss: 0.2583 - val_acc: 0.9097\n",
      "\n",
      "Epoch 00015: val_acc did not improve from 0.91606\n",
      "Epoch 16/100\n",
      "13771/13771 [==============================] - 103s 7ms/step - loss: 0.0996 - acc: 0.9609 - val_loss: 0.2779 - val_acc: 0.9143\n",
      "\n",
      "Epoch 00016: val_acc did not improve from 0.91606\n",
      "Epoch 17/100\n",
      "13771/13771 [==============================] - 99s 7ms/step - loss: 0.0917 - acc: 0.9648 - val_loss: 0.2638 - val_acc: 0.9161\n",
      "\n",
      "Epoch 00017: val_acc did not improve from 0.91606\n",
      "Epoch 18/100\n",
      "13771/13771 [==============================] - 92s 7ms/step - loss: 0.0778 - acc: 0.9702 - val_loss: 0.2923 - val_acc: 0.9134\n",
      "\n",
      "Epoch 00018: val_acc did not improve from 0.91606\n",
      "Epoch 19/100\n",
      "13771/13771 [==============================] - 93s 7ms/step - loss: 0.0696 - acc: 0.9732 - val_loss: 0.3047 - val_acc: 0.9181\n",
      "\n",
      "Epoch 00019: val_acc improved from 0.91606 to 0.91809, saving model to weights_gender_letter_lstm.hdf5\n",
      "Epoch 20/100\n",
      "13771/13771 [==============================] - 93s 7ms/step - loss: 0.0631 - acc: 0.9759 - val_loss: 0.3179 - val_acc: 0.9146\n",
      "\n",
      "Epoch 00020: val_acc did not improve from 0.91809\n",
      "Epoch 21/100\n",
      "13771/13771 [==============================] - 87s 6ms/step - loss: 0.0558 - acc: 0.9794 - val_loss: 0.3280 - val_acc: 0.9155\n",
      "\n",
      "Epoch 00021: val_acc did not improve from 0.91809\n",
      "Epoch 22/100\n",
      "13771/13771 [==============================] - 86s 6ms/step - loss: 0.0539 - acc: 0.9810 - val_loss: 0.3222 - val_acc: 0.9126\n",
      "\n",
      "Epoch 00022: val_acc did not improve from 0.91809\n",
      "Epoch 23/100\n",
      "13771/13771 [==============================] - 86s 6ms/step - loss: 0.0482 - acc: 0.9810 - val_loss: 0.3436 - val_acc: 0.9164\n",
      "\n",
      "Epoch 00023: val_acc did not improve from 0.91809\n",
      "Epoch 24/100\n",
      "13771/13771 [==============================] - 87s 6ms/step - loss: 0.0396 - acc: 0.9864 - val_loss: 0.3532 - val_acc: 0.9193\n",
      "\n",
      "Epoch 00024: val_acc improved from 0.91809 to 0.91926, saving model to weights_gender_letter_lstm.hdf5\n",
      "Epoch 25/100\n",
      "13771/13771 [==============================] - 87s 6ms/step - loss: 0.0434 - acc: 0.9850 - val_loss: 0.3255 - val_acc: 0.9207\n",
      "\n",
      "Epoch 00025: val_acc improved from 0.91926 to 0.92071, saving model to weights_gender_letter_lstm.hdf5\n",
      "Epoch 26/100\n",
      "13771/13771 [==============================] - 87s 6ms/step - loss: 0.0346 - acc: 0.9874 - val_loss: 0.3576 - val_acc: 0.9184\n",
      "\n",
      "Epoch 00026: val_acc did not improve from 0.92071\n",
      "Epoch 27/100\n",
      "13771/13771 [==============================] - 92s 7ms/step - loss: 0.0319 - acc: 0.9890 - val_loss: 0.3886 - val_acc: 0.9143\n",
      "\n",
      "Epoch 00027: val_acc did not improve from 0.92071\n",
      "Epoch 28/100\n",
      "13771/13771 [==============================] - 96s 7ms/step - loss: 0.0297 - acc: 0.9892 - val_loss: 0.3985 - val_acc: 0.9210\n",
      "\n",
      "Epoch 00028: val_acc improved from 0.92071 to 0.92100, saving model to weights_gender_letter_lstm.hdf5\n",
      "Epoch 29/100\n",
      "13771/13771 [==============================] - 94s 7ms/step - loss: 0.0249 - acc: 0.9899 - val_loss: 0.4106 - val_acc: 0.9105\n",
      "\n",
      "Epoch 00029: val_acc did not improve from 0.92100\n",
      "Epoch 30/100\n",
      "13771/13771 [==============================] - 95s 7ms/step - loss: 0.0301 - acc: 0.9885 - val_loss: 0.3951 - val_acc: 0.9195\n",
      "\n",
      "Epoch 00030: val_acc did not improve from 0.92100\n",
      "Epoch 31/100\n",
      "13771/13771 [==============================] - 90s 7ms/step - loss: 0.0238 - acc: 0.9928 - val_loss: 0.4100 - val_acc: 0.9193\n",
      "\n",
      "Epoch 00031: val_acc did not improve from 0.92100\n",
      "Epoch 32/100\n",
      "13771/13771 [==============================] - 95s 7ms/step - loss: 0.0252 - acc: 0.9911 - val_loss: 0.3813 - val_acc: 0.9210\n",
      "\n",
      "Epoch 00032: val_acc did not improve from 0.92100\n",
      "Epoch 33/100\n",
      "13771/13771 [==============================] - 92s 7ms/step - loss: 0.0219 - acc: 0.9917 - val_loss: 0.4252 - val_acc: 0.9155\n",
      "\n",
      "Epoch 00033: val_acc did not improve from 0.92100\n",
      "Epoch 34/100\n",
      "13771/13771 [==============================] - 87s 6ms/step - loss: 0.0215 - acc: 0.9926 - val_loss: 0.4122 - val_acc: 0.9169\n",
      "\n",
      "Epoch 00034: val_acc did not improve from 0.92100\n",
      "Epoch 35/100\n",
      "13771/13771 [==============================] - 85s 6ms/step - loss: 0.0231 - acc: 0.9925 - val_loss: 0.4148 - val_acc: 0.9181\n",
      "\n",
      "Epoch 00035: val_acc did not improve from 0.92100\n",
      "Epoch 36/100\n",
      "13771/13771 [==============================] - 85s 6ms/step - loss: 0.0229 - acc: 0.9921 - val_loss: 0.4001 - val_acc: 0.9149 - loss: 0.0\n",
      "\n",
      "Epoch 00036: val_acc did not improve from 0.92100\n",
      "Epoch 37/100\n",
      "13771/13771 [==============================] - 88s 6ms/step - loss: 0.0232 - acc: 0.9914 - val_loss: 0.4317 - val_acc: 0.9216\n",
      "\n",
      "Epoch 00037: val_acc improved from 0.92100 to 0.92158, saving model to weights_gender_letter_lstm.hdf5\n",
      "Epoch 38/100\n",
      "13771/13771 [==============================] - 83s 6ms/step - loss: 0.0159 - acc: 0.9939 - val_loss: 0.4353 - val_acc: 0.9190\n",
      "\n",
      "Epoch 00038: val_acc did not improve from 0.92158\n",
      "Epoch 39/100\n",
      "13771/13771 [==============================] - 81s 6ms/step - loss: 0.0203 - acc: 0.9931 - val_loss: 0.4412 - val_acc: 0.9201\n",
      "\n",
      "Epoch 00039: val_acc did not improve from 0.92158\n",
      "Epoch 40/100\n",
      "13771/13771 [==============================] - 81s 6ms/step - loss: 0.0195 - acc: 0.9931 - val_loss: 0.4381 - val_acc: 0.9172\n",
      "\n",
      "Epoch 00040: val_acc did not improve from 0.92158\n",
      "Epoch 41/100\n",
      "13771/13771 [==============================] - 81s 6ms/step - loss: 0.0154 - acc: 0.9943 - val_loss: 0.4357 - val_acc: 0.9204\n",
      "\n",
      "Epoch 00041: val_acc did not improve from 0.92158\n",
      "Epoch 42/100\n",
      "13771/13771 [==============================] - 79s 6ms/step - loss: 0.0214 - acc: 0.9928 - val_loss: 0.4495 - val_acc: 0.9164\n",
      "\n",
      "Epoch 00042: val_acc did not improve from 0.92158\n",
      "Epoch 43/100\n",
      "13771/13771 [==============================] - 79s 6ms/step - loss: 0.0270 - acc: 0.9914 - val_loss: 0.4070 - val_acc: 0.9169\n",
      "\n",
      "Epoch 00043: val_acc did not improve from 0.92158\n",
      "Epoch 44/100\n",
      "13771/13771 [==============================] - 79s 6ms/step - loss: 0.0152 - acc: 0.9946 - val_loss: 0.4450 - val_acc: 0.9193\n",
      "\n",
      "Epoch 00044: val_acc did not improve from 0.92158\n",
      "Epoch 45/100\n",
      "13771/13771 [==============================] - 80s 6ms/step - loss: 0.0163 - acc: 0.9947 - val_loss: 0.4305 - val_acc: 0.9204\n",
      "\n",
      "Epoch 00045: val_acc did not improve from 0.92158\n",
      "Epoch 46/100\n",
      "13771/13771 [==============================] - 79s 6ms/step - loss: 0.0133 - acc: 0.9956 - val_loss: 0.4352 - val_acc: 0.9213\n",
      "\n",
      "Epoch 00046: val_acc did not improve from 0.92158\n",
      "Epoch 47/100\n",
      "13771/13771 [==============================] - 79s 6ms/step - loss: 0.0126 - acc: 0.9953 - val_loss: 0.4563 - val_acc: 0.9216\n",
      "\n",
      "Epoch 00047: val_acc did not improve from 0.92158\n",
      "Epoch 48/100\n",
      "13771/13771 [==============================] - 79s 6ms/step - loss: 0.0160 - acc: 0.9950 - val_loss: 0.4414 - val_acc: 0.9210\n",
      "\n",
      "Epoch 00048: val_acc did not improve from 0.92158\n",
      "Epoch 49/100\n",
      "13771/13771 [==============================] - 79s 6ms/step - loss: 0.0158 - acc: 0.9948 - val_loss: 0.4639 - val_acc: 0.9198\n",
      "\n",
      "Epoch 00049: val_acc did not improve from 0.92158\n",
      "Epoch 50/100\n",
      "13771/13771 [==============================] - 79s 6ms/step - loss: 0.0128 - acc: 0.9955 - val_loss: 0.4587 - val_acc: 0.9216\n",
      "\n",
      "Epoch 00050: val_acc did not improve from 0.92158\n",
      "Epoch 51/100\n",
      "13771/13771 [==============================] - 79s 6ms/step - loss: 0.0123 - acc: 0.9963 - val_loss: 0.4565 - val_acc: 0.9254\n",
      "\n",
      "Epoch 00051: val_acc improved from 0.92158 to 0.92536, saving model to weights_gender_letter_lstm.hdf5\n",
      "Epoch 52/100\n",
      "13771/13771 [==============================] - 84s 6ms/step - loss: 0.0141 - acc: 0.9955 - val_loss: 0.4705 - val_acc: 0.9245\n",
      "\n",
      "Epoch 00052: val_acc did not improve from 0.92536\n",
      "Epoch 53/100\n",
      "13771/13771 [==============================] - 83s 6ms/step - loss: 0.0119 - acc: 0.9964 - val_loss: 0.4543 - val_acc: 0.9233\n",
      "\n",
      "Epoch 00053: val_acc did not improve from 0.92536\n",
      "Epoch 54/100\n",
      "13771/13771 [==============================] - 81s 6ms/step - loss: 0.0155 - acc: 0.9944 - val_loss: 0.5015 - val_acc: 0.9158\n",
      "\n",
      "Epoch 00054: val_acc did not improve from 0.92536\n",
      "Epoch 55/100\n",
      "13771/13771 [==============================] - 81s 6ms/step - loss: 0.0201 - acc: 0.9934 - val_loss: 0.4367 - val_acc: 0.9225\n",
      "\n",
      "Epoch 00055: val_acc did not improve from 0.92536\n",
      "Epoch 56/100\n",
      "13771/13771 [==============================] - 82s 6ms/step - loss: 0.0147 - acc: 0.9945 - val_loss: 0.4392 - val_acc: 0.9233\n",
      "\n",
      "Epoch 00056: val_acc did not improve from 0.92536\n",
      "Epoch 57/100\n",
      "13771/13771 [==============================] - 84s 6ms/step - loss: 0.0113 - acc: 0.9953 - val_loss: 0.4573 - val_acc: 0.9233\n",
      "\n",
      "Epoch 00057: val_acc did not improve from 0.92536\n",
      "Epoch 58/100\n",
      "13771/13771 [==============================] - 83s 6ms/step - loss: 0.0121 - acc: 0.9962 - val_loss: 0.4728 - val_acc: 0.9239\n",
      "\n",
      "Epoch 00058: val_acc did not improve from 0.92536\n",
      "Epoch 59/100\n",
      "13771/13771 [==============================] - 82s 6ms/step - loss: 0.0096 - acc: 0.9967 - val_loss: 0.4736 - val_acc: 0.9236\n",
      "\n",
      "Epoch 00059: val_acc did not improve from 0.92536\n",
      "Epoch 60/100\n",
      "13771/13771 [==============================] - 81s 6ms/step - loss: 0.0117 - acc: 0.9964 - val_loss: 0.4485 - val_acc: 0.9172\n",
      "\n",
      "Epoch 00060: val_acc did not improve from 0.92536\n",
      "Epoch 61/100\n",
      "13771/13771 [==============================] - 81s 6ms/step - loss: 0.0143 - acc: 0.9951 - val_loss: 0.4491 - val_acc: 0.9193\n",
      "\n",
      "Epoch 00061: val_acc did not improve from 0.92536\n",
      "Epoch 62/100\n",
      "13771/13771 [==============================] - 83s 6ms/step - loss: 0.0120 - acc: 0.9956 - val_loss: 0.4570 - val_acc: 0.9172\n",
      "\n",
      "Epoch 00062: val_acc did not improve from 0.92536\n",
      "Epoch 63/100\n",
      "13771/13771 [==============================] - 99s 7ms/step - loss: 0.0137 - acc: 0.9955 - val_loss: 0.4539 - val_acc: 0.9230\n",
      "\n",
      "Epoch 00063: val_acc did not improve from 0.92536\n",
      "Epoch 64/100\n",
      "13771/13771 [==============================] - 92s 7ms/step - loss: 0.0179 - acc: 0.9946 - val_loss: 0.4526 - val_acc: 0.9245\n",
      "\n",
      "Epoch 00064: val_acc did not improve from 0.92536\n",
      "Epoch 65/100\n",
      "13771/13771 [==============================] - 106s 8ms/step - loss: 0.0101 - acc: 0.9963 - val_loss: 0.4505 - val_acc: 0.9268- loss: 0.0100 - acc\n",
      "\n",
      "Epoch 00065: val_acc improved from 0.92536 to 0.92681, saving model to weights_gender_letter_lstm.hdf5\n",
      "Epoch 66/100\n",
      "13771/13771 [==============================] - 1241s 90ms/step - loss: 0.0123 - acc: 0.9955 - val_loss: 0.4282 - val_acc: 0.9251\n",
      "\n",
      "Epoch 00066: val_acc did not improve from 0.92681\n",
      "Epoch 67/100\n",
      "13771/13771 [==============================] - 93s 7ms/step - loss: 0.0070 - acc: 0.9974 - val_loss: 0.4423 - val_acc: 0.9259\n",
      "\n",
      "Epoch 00067: val_acc did not improve from 0.92681\n",
      "Epoch 68/100\n",
      "13771/13771 [==============================] - 99s 7ms/step - loss: 0.0096 - acc: 0.9962 - val_loss: 0.4599 - val_acc: 0.9286\n",
      "\n",
      "Epoch 00068: val_acc improved from 0.92681 to 0.92855, saving model to weights_gender_letter_lstm.hdf5\n",
      "Epoch 69/100\n",
      "13771/13771 [==============================] - 97s 7ms/step - loss: 0.0106 - acc: 0.9966 - val_loss: 0.4262 - val_acc: 0.9280\n",
      "\n",
      "Epoch 00069: val_acc did not improve from 0.92855\n",
      "Epoch 70/100\n",
      "13771/13771 [==============================] - 89s 6ms/step - loss: 0.0125 - acc: 0.9957 - val_loss: 0.4631 - val_acc: 0.9225\n",
      "\n",
      "Epoch 00070: val_acc did not improve from 0.92855\n",
      "Epoch 71/100\n",
      "13771/13771 [==============================] - 91s 7ms/step - loss: 0.0134 - acc: 0.9957 - val_loss: 0.4330 - val_acc: 0.9271\n",
      "\n",
      "Epoch 00071: val_acc did not improve from 0.92855\n",
      "Epoch 72/100\n",
      "13771/13771 [==============================] - 90s 7ms/step - loss: 0.0081 - acc: 0.9974 - val_loss: 0.4610 - val_acc: 0.9262\n",
      "\n",
      "Epoch 00072: val_acc did not improve from 0.92855\n",
      "Epoch 73/100\n",
      "13771/13771 [==============================] - 94s 7ms/step - loss: 0.0117 - acc: 0.9957 - val_loss: 0.4759 - val_acc: 0.9254\n",
      "\n",
      "Epoch 00073: val_acc did not improve from 0.92855\n",
      "Epoch 74/100\n",
      "13771/13771 [==============================] - 90s 7ms/step - loss: 0.0112 - acc: 0.9962 - val_loss: 0.4705 - val_acc: 0.9230\n",
      "\n",
      "Epoch 00074: val_acc did not improve from 0.92855\n",
      "Epoch 75/100\n",
      "13771/13771 [==============================] - 90s 7ms/step - loss: 0.0100 - acc: 0.9963 - val_loss: 0.4840 - val_acc: 0.9222\n",
      "\n",
      "Epoch 00075: val_acc did not improve from 0.92855\n",
      "Epoch 76/100\n",
      "13771/13771 [==============================] - 92s 7ms/step - loss: 0.0126 - acc: 0.9956 - val_loss: 0.4462 - val_acc: 0.92549 \n",
      "\n",
      "Epoch 00076: val_acc did not improve from 0.92855\n",
      "Epoch 77/100\n",
      "13771/13771 [==============================] - 91s 7ms/step - loss: 0.0142 - acc: 0.9951 - val_loss: 0.4517 - val_acc: 0.9242 - los - ETA: 1s - loss: 0.0140 - acc: \n",
      "\n",
      "Epoch 00077: val_acc did not improve from 0.92855\n",
      "Epoch 78/100\n",
      "13771/13771 [==============================] - 90s 7ms/step - loss: 0.0132 - acc: 0.9949 - val_loss: 0.4485 - val_acc: 0.9248\n",
      "\n",
      "Epoch 00078: val_acc did not improve from 0.92855\n",
      "Epoch 79/100\n",
      "13771/13771 [==============================] - 91s 7ms/step - loss: 0.0094 - acc: 0.9968 - val_loss: 0.4734 - val_acc: 0.9219\n",
      "\n",
      "Epoch 00079: val_acc did not improve from 0.92855\n",
      "Epoch 80/100\n",
      "13771/13771 [==============================] - 92s 7ms/step - loss: 0.0064 - acc: 0.9977 - val_loss: 0.4727 - val_acc: 0.9198\n",
      "\n",
      "Epoch 00080: val_acc did not improve from 0.92855\n",
      "Epoch 81/100\n"
     ]
    },
    {
     "name": "stdout",
     "output_type": "stream",
     "text": [
      "13771/13771 [==============================] - 85s 6ms/step - loss: 0.0106 - acc: 0.9962 - val_loss: 0.4904 - val_acc: 0.9219\n",
      "\n",
      "Epoch 00081: val_acc did not improve from 0.92855\n",
      "Epoch 82/100\n",
      "13771/13771 [==============================] - 76s 6ms/step - loss: 0.0089 - acc: 0.9974 - val_loss: 0.4580 - val_acc: 0.9265\n",
      "\n",
      "Epoch 00082: val_acc did not improve from 0.92855\n",
      "Epoch 83/100\n",
      "13771/13771 [==============================] - 77s 6ms/step - loss: 0.0086 - acc: 0.9969 - val_loss: 0.4798 - val_acc: 0.9242\n",
      "\n",
      "Epoch 00083: val_acc did not improve from 0.92855\n",
      "Epoch 84/100\n",
      "13771/13771 [==============================] - 77s 6ms/step - loss: 0.0113 - acc: 0.9961 - val_loss: 0.4527 - val_acc: 0.9213\n",
      "\n",
      "Epoch 00084: val_acc did not improve from 0.92855\n",
      "Epoch 85/100\n",
      "13771/13771 [==============================] - 79s 6ms/step - loss: 0.0148 - acc: 0.9948 - val_loss: 0.4757 - val_acc: 0.9259\n",
      "\n",
      "Epoch 00085: val_acc did not improve from 0.92855\n",
      "Epoch 86/100\n",
      "13771/13771 [==============================] - 78s 6ms/step - loss: 0.0080 - acc: 0.9976 - val_loss: 0.4881 - val_acc: 0.9251\n",
      "\n",
      "Epoch 00086: val_acc did not improve from 0.92855\n",
      "Epoch 87/100\n",
      "13771/13771 [==============================] - 78s 6ms/step - loss: 0.0089 - acc: 0.9972 - val_loss: 0.4494 - val_acc: 0.9262\n",
      "\n",
      "Epoch 00087: val_acc did not improve from 0.92855\n",
      "Epoch 88/100\n",
      "13771/13771 [==============================] - 79s 6ms/step - loss: 0.0110 - acc: 0.9966 - val_loss: 0.4615 - val_acc: 0.9222\n",
      "\n",
      "Epoch 00088: val_acc did not improve from 0.92855\n",
      "Epoch 89/100\n",
      "13771/13771 [==============================] - 78s 6ms/step - loss: 0.0121 - acc: 0.9960 - val_loss: 0.4419 - val_acc: 0.9251\n",
      "\n",
      "Epoch 00089: val_acc did not improve from 0.92855\n",
      "Epoch 90/100\n",
      "13771/13771 [==============================] - 80s 6ms/step - loss: 0.0076 - acc: 0.9972 - val_loss: 0.4587 - val_acc: 0.9236\n",
      "\n",
      "Epoch 00090: val_acc did not improve from 0.92855\n",
      "Epoch 91/100\n",
      "13771/13771 [==============================] - 79s 6ms/step - loss: 0.0104 - acc: 0.9969 - val_loss: 0.4885 - val_acc: 0.9187\n",
      "\n",
      "Epoch 00091: val_acc did not improve from 0.92855\n",
      "Epoch 92/100\n",
      "13771/13771 [==============================] - 78s 6ms/step - loss: 0.0083 - acc: 0.9972 - val_loss: 0.4698 - val_acc: 0.9236\n",
      "\n",
      "Epoch 00092: val_acc did not improve from 0.92855\n",
      "Epoch 93/100\n",
      "13771/13771 [==============================] - 78s 6ms/step - loss: 0.0050 - acc: 0.9981 - val_loss: 0.4994 - val_acc: 0.9268\n",
      "\n",
      "Epoch 00093: val_acc did not improve from 0.92855\n",
      "Epoch 94/100\n",
      "13771/13771 [==============================] - 79s 6ms/step - loss: 0.0071 - acc: 0.9978 - val_loss: 0.5002 - val_acc: 0.9175\n",
      "\n",
      "Epoch 00094: val_acc did not improve from 0.92855\n",
      "Epoch 95/100\n",
      "13771/13771 [==============================] - 78s 6ms/step - loss: 0.0155 - acc: 0.9955 - val_loss: 0.4509 - val_acc: 0.9227\n",
      "\n",
      "Epoch 00095: val_acc did not improve from 0.92855\n",
      "Epoch 96/100\n",
      "13771/13771 [==============================] - 78s 6ms/step - loss: 0.0091 - acc: 0.9970 - val_loss: 0.4778 - val_acc: 0.9198\n",
      "\n",
      "Epoch 00096: val_acc did not improve from 0.92855\n",
      "Epoch 97/100\n",
      "13771/13771 [==============================] - 79s 6ms/step - loss: 0.0082 - acc: 0.9971 - val_loss: 0.4952 - val_acc: 0.9198\n",
      "\n",
      "Epoch 00097: val_acc did not improve from 0.92855\n",
      "Epoch 98/100\n",
      "13771/13771 [==============================] - 78s 6ms/step - loss: 0.0070 - acc: 0.9977 - val_loss: 0.5009 - val_acc: 0.9239\n",
      "\n",
      "Epoch 00098: val_acc did not improve from 0.92855\n",
      "Epoch 99/100\n",
      "13771/13771 [==============================] - 80s 6ms/step - loss: 0.0060 - acc: 0.9977 - val_loss: 0.4827 - val_acc: 0.9207\n",
      "\n",
      "Epoch 00099: val_acc did not improve from 0.92855\n",
      "Epoch 100/100\n",
      "13771/13771 [==============================] - 79s 6ms/step - loss: 0.0080 - acc: 0.9968 - val_loss: 0.5074 - val_acc: 0.9222\n",
      "\n",
      "Epoch 00100: val_acc did not improve from 0.92855\n"
     ]
    }
   ],
   "source": [
    "filepath=\"weights_gender_letter_lstm.hdf5\"\n",
    "checkpoint = ModelCheckpoint(filepath, monitor='val_acc', verbose=1, save_best_only=True, mode='max')\n",
    "callbacks_list = [checkpoint]\n",
    "history=model.fit(input_train, target_train,validation_data=(input_val, target_val), shuffle=False, epochs=epoc, batch_size=batch_size,callbacks=callbacks_list)"
   ]
  },
  {
   "cell_type": "markdown",
   "metadata": {},
   "source": [
    "score acc"
   ]
  },
  {
   "cell_type": "code",
   "execution_count": 243,
   "metadata": {},
   "outputs": [
    {
     "name": "stdout",
     "output_type": "stream",
     "text": [
      "3443/3443 [==============================] - 5s 1ms/step\n",
      "\n",
      "acc: 92.86%\n"
     ]
    }
   ],
   "source": [
    "model.load_weights(\"weights_gender_letter_lstm.hdf5\")\n",
    "scores = model.evaluate(input_val, target_val)\n",
    "print(\"\\n%s: %.2f%%\" % (model.metrics_names[1], scores[1]*100))"
   ]
  },
  {
   "cell_type": "code",
   "execution_count": 244,
   "metadata": {},
   "outputs": [
    {
     "name": "stdout",
     "output_type": "stream",
     "text": [
      "              precision    recall  f1-score   support\n",
      "\n",
      "        male       0.94      0.92      0.93      1738\n",
      "      female       0.92      0.94      0.93      1705\n",
      "\n",
      "   micro avg       0.93      0.93      0.93      3443\n",
      "   macro avg       0.93      0.93      0.93      3443\n",
      "weighted avg       0.93      0.93      0.93      3443\n",
      "\n"
     ]
    }
   ],
   "source": [
    "from sklearn.metrics import classification_report\n",
    "predict = model.predict_classes(input_val)\n",
    "y_true = target_val\n",
    "y_pred = predict\n",
    "target_names = ['male', 'female',]\n",
    "print (classification_report(y_true, y_pred, target_names=target_names))"
   ]
  },
  {
   "cell_type": "markdown",
   "metadata": {},
   "source": [
    "plot acc dan loss"
   ]
  },
  {
   "cell_type": "code",
   "execution_count": 245,
   "metadata": {},
   "outputs": [
    {
     "data": {
      "image/png": "[encoded data removed]",
      "text/plain": [
       "<Figure size 432x288 with 1 Axes>"
      ]
     },
     "metadata": {
      "needs_background": "light"
     },
     "output_type": "display_data"
    }
   ],
   "source": [
    "# Plot training & validation accuracy values\n",
    "plt.plot(history.history['acc'])\n",
    "plt.plot(history.history['val_acc'])\n",
    "plt.title('Model accuracy')\n",
    "plt.ylabel('Accuracy')\n",
    "plt.xlabel('Epoch')\n",
    "plt.legend(['Train', 'Test'], loc='upper left')\n",
    "plt.show()"
   ]
  },
  {
   "cell_type": "code",
   "execution_count": 246,
   "metadata": {},
   "outputs": [
    {
     "data": {
      "image/png": "[encoded data removed]",
      "text/plain": [
       "<Figure size 432x288 with 1 Axes>"
      ]
     },
     "metadata": {
      "needs_background": "light"
     },
     "output_type": "display_data"
    }
   ],
   "source": [
    "# Plot training & validation loss values\n",
    "plt.plot(history.history['loss'])\n",
    "plt.plot(history.history['val_loss'])\n",
    "plt.title('Model loss')\n",
    "plt.ylabel('Loss')\n",
    "plt.xlabel('Epoch')\n",
    "plt.legend(['Train', 'Test'], loc='upper left')\n",
    "plt.show()"
   ]
  },
  {
   "cell_type": "markdown",
   "metadata": {},
   "source": [
    "build model cnn lstm"
   ]
  },
  {
   "cell_type": "code",
   "execution_count": 247,
   "metadata": {},
   "outputs": [
    {
     "name": "stdout",
     "output_type": "stream",
     "text": [
      "_________________________________________________________________\n",
      "Layer (type)                 Output Shape              Param #   \n",
      "=================================================================\n",
      "embedding_13 (Embedding)     (None, 40, 128)           5120      \n",
      "_________________________________________________________________\n",
      "conv1d_13 (Conv1D)           (None, 40, 32)            12320     \n",
      "_________________________________________________________________\n",
      "max_pooling1d_9 (MaxPooling1 (None, 20, 32)            0         \n",
      "_________________________________________________________________\n",
      "conv1d_14 (Conv1D)           (None, 20, 32)            3104      \n",
      "_________________________________________________________________\n",
      "max_pooling1d_10 (MaxPooling (None, 10, 32)            0         \n",
      "_________________________________________________________________\n",
      "lstm_13 (LSTM)               (None, 10, 100)           53200     \n",
      "_________________________________________________________________\n",
      "dropout_27 (Dropout)         (None, 10, 100)           0         \n",
      "_________________________________________________________________\n",
      "lstm_14 (LSTM)               (None, 100)               80400     \n",
      "_________________________________________________________________\n",
      "dense_19 (Dense)             (None, 1)                 101       \n",
      "=================================================================\n",
      "Total params: 154,245\n",
      "Trainable params: 154,245\n",
      "Non-trainable params: 0\n",
      "_________________________________________________________________\n"
     ]
    }
   ],
   "source": [
    "model = Sequential()\n",
    "model.add(Embedding(nwords, embed_dim,input_length = input_train.shape[1],trainable=True))\n",
    "model.add(Conv1D(filters=32, kernel_size=3, padding='same', activation='relu'))\n",
    "model.add(MaxPooling1D(pool_size=2))\n",
    "model.add(Conv1D(filters=32, kernel_size=3, padding='same', activation='relu'))\n",
    "model.add(MaxPooling1D(pool_size=2))\n",
    "model.add(LSTM(100,return_sequences=True))\n",
    "model.add(Dropout(0.2))\n",
    "model.add(LSTM(100,return_sequences=False))\n",
    "model.add(Dense(1, activation='sigmoid'))\n",
    "model.compile(loss='binary_crossentropy', optimizer='adam', metrics=['accuracy'])\n",
    "model.summary()"
   ]
  },
  {
   "cell_type": "markdown",
   "metadata": {},
   "source": [
    "set filepath utk save weights dan set callback untuk mengevaluasi bahwa hanya jika acc naik maka weights akan di save."
   ]
  },
  {
   "cell_type": "code",
   "execution_count": 248,
   "metadata": {
    "scrolled": true
   },
   "outputs": [
    {
     "name": "stdout",
     "output_type": "stream",
     "text": [
      "Train on 13771 samples, validate on 3443 samples\n",
      "Epoch 1/100\n",
      "13771/13771 [==============================] - 41s 3ms/step - loss: 0.4102 - acc: 0.8077 - val_loss: 0.3041 - val_acc: 0.8693\n",
      "\n",
      "Epoch 00001: val_acc improved from -inf to 0.86930, saving model to weights_gender_letter_cnn-lstm.hdf5\n",
      "Epoch 2/100\n",
      "13771/13771 [==============================] - 30s 2ms/step - loss: 0.2817 - acc: 0.8841 - val_loss: 0.2654 - val_acc: 0.8908\n",
      "\n",
      "Epoch 00002: val_acc improved from 0.86930 to 0.89079, saving model to weights_gender_letter_cnn-lstm.hdf5\n",
      "Epoch 3/100\n",
      "13771/13771 [==============================] - 30s 2ms/step - loss: 0.2412 - acc: 0.9039 - val_loss: 0.2539 - val_acc: 0.8981\n",
      "\n",
      "Epoch 00003: val_acc improved from 0.89079 to 0.89805, saving model to weights_gender_letter_cnn-lstm.hdf5\n",
      "Epoch 4/100\n",
      "13771/13771 [==============================] - 30s 2ms/step - loss: 0.2206 - acc: 0.9121 - val_loss: 0.2484 - val_acc: 0.8969\n",
      "\n",
      "Epoch 00004: val_acc did not improve from 0.89805\n",
      "Epoch 5/100\n",
      "13771/13771 [==============================] - 30s 2ms/step - loss: 0.2043 - acc: 0.9211 - val_loss: 0.2539 - val_acc: 0.8983\n",
      "\n",
      "Epoch 00005: val_acc improved from 0.89805 to 0.89834, saving model to weights_gender_letter_cnn-lstm.hdf5\n",
      "Epoch 6/100\n",
      "13771/13771 [==============================] - 30s 2ms/step - loss: 0.1873 - acc: 0.9286 - val_loss: 0.2595 - val_acc: 0.8975\n",
      "\n",
      "Epoch 00006: val_acc did not improve from 0.89834\n",
      "Epoch 7/100\n",
      "13771/13771 [==============================] - 30s 2ms/step - loss: 0.1733 - acc: 0.9351 - val_loss: 0.2635 - val_acc: 0.9039\n",
      "\n",
      "Epoch 00007: val_acc improved from 0.89834 to 0.90386, saving model to weights_gender_letter_cnn-lstm.hdf5\n",
      "Epoch 8/100\n",
      "13771/13771 [==============================] - 31s 2ms/step - loss: 0.1616 - acc: 0.9403 - val_loss: 0.2974 - val_acc: 0.8946\n",
      "\n",
      "Epoch 00008: val_acc did not improve from 0.90386\n",
      "Epoch 9/100\n",
      "13771/13771 [==============================] - 31s 2ms/step - loss: 0.1564 - acc: 0.9418 - val_loss: 0.2831 - val_acc: 0.9021\n",
      "\n",
      "Epoch 00009: val_acc did not improve from 0.90386\n",
      "Epoch 10/100\n",
      "13771/13771 [==============================] - 30s 2ms/step - loss: 0.1451 - acc: 0.9466 - val_loss: 0.2813 - val_acc: 0.9073\n",
      "\n",
      "Epoch 00010: val_acc improved from 0.90386 to 0.90735, saving model to weights_gender_letter_cnn-lstm.hdf5\n",
      "Epoch 11/100\n",
      "13771/13771 [==============================] - 31s 2ms/step - loss: 0.1418 - acc: 0.9471 - val_loss: 0.2885 - val_acc: 0.9091\n",
      "\n",
      "Epoch 00011: val_acc improved from 0.90735 to 0.90909, saving model to weights_gender_letter_cnn-lstm.hdf5\n",
      "Epoch 12/100\n",
      "13771/13771 [==============================] - 30s 2ms/step - loss: 0.1374 - acc: 0.9498 - val_loss: 0.2541 - val_acc: 0.9097\n",
      "\n",
      "Epoch 00012: val_acc improved from 0.90909 to 0.90967, saving model to weights_gender_letter_cnn-lstm.hdf5\n",
      "Epoch 13/100\n",
      "13771/13771 [==============================] - 30s 2ms/step - loss: 0.1402 - acc: 0.9464 - val_loss: 0.2724 - val_acc: 0.9091\n",
      "\n",
      "Epoch 00013: val_acc did not improve from 0.90967\n",
      "Epoch 14/100\n",
      "13771/13771 [==============================] - 31s 2ms/step - loss: 0.1212 - acc: 0.9545 - val_loss: 0.2825 - val_acc: 0.9117\n",
      "\n",
      "Epoch 00014: val_acc improved from 0.90967 to 0.91170, saving model to weights_gender_letter_cnn-lstm.hdf5\n",
      "Epoch 15/100\n",
      "13771/13771 [==============================] - 30s 2ms/step - loss: 0.1114 - acc: 0.9592 - val_loss: 0.3237 - val_acc: 0.9018\n",
      "\n",
      "Epoch 00015: val_acc did not improve from 0.91170\n",
      "Epoch 16/100\n",
      "13771/13771 [==============================] - 30s 2ms/step - loss: 0.1088 - acc: 0.9594 - val_loss: 0.2844 - val_acc: 0.9088\n",
      "\n",
      "Epoch 00016: val_acc did not improve from 0.91170\n",
      "Epoch 17/100\n",
      "13771/13771 [==============================] - 32s 2ms/step - loss: 0.1094 - acc: 0.9598 - val_loss: 0.2853 - val_acc: 0.9105\n",
      "\n",
      "Epoch 00017: val_acc did not improve from 0.91170\n",
      "Epoch 18/100\n",
      "13771/13771 [==============================] - 33s 2ms/step - loss: 0.0979 - acc: 0.9641 - val_loss: 0.3034 - val_acc: 0.9114\n",
      "\n",
      "Epoch 00018: val_acc did not improve from 0.91170\n",
      "Epoch 19/100\n",
      "13771/13771 [==============================] - 32s 2ms/step - loss: 0.0897 - acc: 0.9667 - val_loss: 0.2999 - val_acc: 0.9085\n",
      "\n",
      "Epoch 00019: val_acc did not improve from 0.91170\n",
      "Epoch 20/100\n",
      "13771/13771 [==============================] - 31s 2ms/step - loss: 0.0783 - acc: 0.9722 - val_loss: 0.3238 - val_acc: 0.9076\n",
      "\n",
      "Epoch 00020: val_acc did not improve from 0.91170\n",
      "Epoch 21/100\n",
      "13771/13771 [==============================] - 32s 2ms/step - loss: 0.0762 - acc: 0.9709 - val_loss: 0.3362 - val_acc: 0.9073\n",
      "\n",
      "Epoch 00021: val_acc did not improve from 0.91170\n",
      "Epoch 22/100\n",
      "13771/13771 [==============================] - 33s 2ms/step - loss: 0.0744 - acc: 0.9725 - val_loss: 0.3277 - val_acc: 0.9164\n",
      "\n",
      "Epoch 00022: val_acc improved from 0.91170 to 0.91635, saving model to weights_gender_letter_cnn-lstm.hdf5\n",
      "Epoch 23/100\n",
      "13771/13771 [==============================] - 33s 2ms/step - loss: 0.0691 - acc: 0.9757 - val_loss: 0.3123 - val_acc: 0.9117\n",
      "\n",
      "Epoch 00023: val_acc did not improve from 0.91635\n",
      "Epoch 24/100\n",
      "13771/13771 [==============================] - 32s 2ms/step - loss: 0.0660 - acc: 0.9757 - val_loss: 0.3540 - val_acc: 0.9068\n",
      "\n",
      "Epoch 00024: val_acc did not improve from 0.91635\n",
      "Epoch 25/100\n",
      "13771/13771 [==============================] - 32s 2ms/step - loss: 0.0660 - acc: 0.9756 - val_loss: 0.3576 - val_acc: 0.9126\n",
      "\n",
      "Epoch 00025: val_acc did not improve from 0.91635\n",
      "Epoch 26/100\n",
      "13771/13771 [==============================] - 31s 2ms/step - loss: 0.0576 - acc: 0.9790 - val_loss: 0.3568 - val_acc: 0.9085\n",
      "\n",
      "Epoch 00026: val_acc did not improve from 0.91635\n",
      "Epoch 27/100\n",
      "13771/13771 [==============================] - 31s 2ms/step - loss: 0.0536 - acc: 0.9807 - val_loss: 0.3708 - val_acc: 0.9079\n",
      "\n",
      "Epoch 00027: val_acc did not improve from 0.91635\n",
      "Epoch 28/100\n",
      "13771/13771 [==============================] - 31s 2ms/step - loss: 0.0534 - acc: 0.9813 - val_loss: 0.3591 - val_acc: 0.9044\n",
      "\n",
      "Epoch 00028: val_acc did not improve from 0.91635\n",
      "Epoch 29/100\n",
      "13771/13771 [==============================] - 32s 2ms/step - loss: 0.0469 - acc: 0.9830 - val_loss: 0.3968 - val_acc: 0.9053\n",
      "\n",
      "Epoch 00029: val_acc did not improve from 0.91635\n",
      "Epoch 30/100\n",
      "13771/13771 [==============================] - 33s 2ms/step - loss: 0.0540 - acc: 0.9810 - val_loss: 0.4001 - val_acc: 0.9056\n",
      "\n",
      "Epoch 00030: val_acc did not improve from 0.91635\n",
      "Epoch 31/100\n",
      "13771/13771 [==============================] - 32s 2ms/step - loss: 0.0520 - acc: 0.9810 - val_loss: 0.4075 - val_acc: 0.9012\n",
      "\n",
      "Epoch 00031: val_acc did not improve from 0.91635\n",
      "Epoch 32/100\n",
      "13771/13771 [==============================] - 32s 2ms/step - loss: 0.0465 - acc: 0.9832 - val_loss: 0.4114 - val_acc: 0.9082\n",
      "\n",
      "Epoch 00032: val_acc did not improve from 0.91635\n",
      "Epoch 33/100\n",
      "13771/13771 [==============================] - 32s 2ms/step - loss: 0.0437 - acc: 0.9850 - val_loss: 0.4062 - val_acc: 0.9065\n",
      "\n",
      "Epoch 00033: val_acc did not improve from 0.91635\n",
      "Epoch 34/100\n",
      "13771/13771 [==============================] - 31s 2ms/step - loss: 0.0375 - acc: 0.9861 - val_loss: 0.4684 - val_acc: 0.9111\n",
      "\n",
      "Epoch 00034: val_acc did not improve from 0.91635\n",
      "Epoch 35/100\n",
      "13771/13771 [==============================] - 31s 2ms/step - loss: 0.0401 - acc: 0.9861 - val_loss: 0.4577 - val_acc: 0.9007\n",
      "\n",
      "Epoch 00035: val_acc did not improve from 0.91635\n",
      "Epoch 36/100\n",
      "13771/13771 [==============================] - 31s 2ms/step - loss: 0.0431 - acc: 0.9848 - val_loss: 0.4382 - val_acc: 0.9059\n",
      "\n",
      "Epoch 00036: val_acc did not improve from 0.91635\n",
      "Epoch 37/100\n",
      "13771/13771 [==============================] - 31s 2ms/step - loss: 0.0397 - acc: 0.9857 - val_loss: 0.4117 - val_acc: 0.9123\n",
      "\n",
      "Epoch 00037: val_acc did not improve from 0.91635\n",
      "Epoch 38/100\n",
      "13771/13771 [==============================] - 31s 2ms/step - loss: 0.0399 - acc: 0.9867 - val_loss: 0.4255 - val_acc: 0.9053\n",
      "\n",
      "Epoch 00038: val_acc did not improve from 0.91635\n",
      "Epoch 39/100\n",
      "13771/13771 [==============================] - 31s 2ms/step - loss: 0.0361 - acc: 0.9855 - val_loss: 0.4257 - val_acc: 0.9050\n",
      "\n",
      "Epoch 00039: val_acc did not improve from 0.91635\n",
      "Epoch 40/100\n",
      "13771/13771 [==============================] - 31s 2ms/step - loss: 0.0344 - acc: 0.9874 - val_loss: 0.5194 - val_acc: 0.8870\n",
      "\n",
      "Epoch 00040: val_acc did not improve from 0.91635\n",
      "Epoch 41/100\n",
      "13771/13771 [==============================] - 31s 2ms/step - loss: 0.0323 - acc: 0.9886 - val_loss: 0.5032 - val_acc: 0.8989\n",
      "\n",
      "Epoch 00041: val_acc did not improve from 0.91635\n",
      "Epoch 42/100\n",
      "13771/13771 [==============================] - 31s 2ms/step - loss: 0.0302 - acc: 0.9887 - val_loss: 0.4866 - val_acc: 0.9027\n",
      "\n",
      "Epoch 00042: val_acc did not improve from 0.91635\n",
      "Epoch 43/100\n",
      "13771/13771 [==============================] - 31s 2ms/step - loss: 0.0306 - acc: 0.9893 - val_loss: 0.4663 - val_acc: 0.8940\n",
      "\n",
      "Epoch 00043: val_acc did not improve from 0.91635\n",
      "Epoch 44/100\n",
      "13771/13771 [==============================] - 31s 2ms/step - loss: 0.0286 - acc: 0.9884 - val_loss: 0.5575 - val_acc: 0.8920\n",
      "\n",
      "Epoch 00044: val_acc did not improve from 0.91635\n",
      "Epoch 45/100\n",
      "13771/13771 [==============================] - 31s 2ms/step - loss: 0.0328 - acc: 0.9880 - val_loss: 0.4903 - val_acc: 0.9030\n",
      "\n",
      "Epoch 00045: val_acc did not improve from 0.91635\n",
      "Epoch 46/100\n",
      "13771/13771 [==============================] - 31s 2ms/step - loss: 0.0316 - acc: 0.9883 - val_loss: 0.4546 - val_acc: 0.9082\n",
      "\n",
      "Epoch 00046: val_acc did not improve from 0.91635\n",
      "Epoch 47/100\n",
      "13771/13771 [==============================] - 31s 2ms/step - loss: 0.0205 - acc: 0.9930 - val_loss: 0.5308 - val_acc: 0.9073\n",
      "\n",
      "Epoch 00047: val_acc did not improve from 0.91635\n",
      "Epoch 48/100\n",
      "13771/13771 [==============================] - 31s 2ms/step - loss: 0.0274 - acc: 0.9892 - val_loss: 0.5398 - val_acc: 0.9076\n",
      "\n",
      "Epoch 00048: val_acc did not improve from 0.91635\n",
      "Epoch 49/100\n",
      "13771/13771 [==============================] - 31s 2ms/step - loss: 0.0246 - acc: 0.9911 - val_loss: 0.4953 - val_acc: 0.9056\n",
      "\n",
      "Epoch 00049: val_acc did not improve from 0.91635\n",
      "Epoch 50/100\n",
      "13771/13771 [==============================] - 31s 2ms/step - loss: 0.0221 - acc: 0.9922 - val_loss: 0.4899 - val_acc: 0.9073\n",
      "\n",
      "Epoch 00050: val_acc did not improve from 0.91635\n",
      "Epoch 51/100\n",
      "13771/13771 [==============================] - 31s 2ms/step - loss: 0.0240 - acc: 0.9912 - val_loss: 0.4895 - val_acc: 0.9062\n",
      "\n",
      "Epoch 00051: val_acc did not improve from 0.91635\n",
      "Epoch 52/100\n",
      "13771/13771 [==============================] - 31s 2ms/step - loss: 0.0280 - acc: 0.9903 - val_loss: 0.5026 - val_acc: 0.9004\n",
      "\n",
      "Epoch 00052: val_acc did not improve from 0.91635\n",
      "Epoch 53/100\n",
      "13771/13771 [==============================] - 31s 2ms/step - loss: 0.0205 - acc: 0.9933 - val_loss: 0.4995 - val_acc: 0.9091\n",
      "\n",
      "Epoch 00053: val_acc did not improve from 0.91635\n",
      "Epoch 54/100\n",
      "13771/13771 [==============================] - 31s 2ms/step - loss: 0.0215 - acc: 0.9928 - val_loss: 0.4922 - val_acc: 0.9042\n",
      "\n",
      "Epoch 00054: val_acc did not improve from 0.91635\n",
      "Epoch 55/100\n",
      "13771/13771 [==============================] - 31s 2ms/step - loss: 0.0259 - acc: 0.9911 - val_loss: 0.4923 - val_acc: 0.9059\n",
      "\n",
      "Epoch 00055: val_acc did not improve from 0.91635\n",
      "Epoch 56/100\n",
      "13771/13771 [==============================] - 31s 2ms/step - loss: 0.0132 - acc: 0.9955 - val_loss: 0.5421 - val_acc: 0.9039\n",
      "\n",
      "Epoch 00056: val_acc did not improve from 0.91635\n",
      "Epoch 57/100\n",
      "13771/13771 [==============================] - 31s 2ms/step - loss: 0.0246 - acc: 0.9906 - val_loss: 0.5148 - val_acc: 0.9007\n",
      "\n",
      "Epoch 00057: val_acc did not improve from 0.91635\n",
      "Epoch 58/100\n",
      "13771/13771 [==============================] - 31s 2ms/step - loss: 0.0198 - acc: 0.9925 - val_loss: 0.5082 - val_acc: 0.9108\n",
      "\n",
      "Epoch 00058: val_acc did not improve from 0.91635\n",
      "Epoch 59/100\n",
      "13771/13771 [==============================] - 31s 2ms/step - loss: 0.0235 - acc: 0.9912 - val_loss: 0.4588 - val_acc: 0.9117\n",
      "\n",
      "Epoch 00059: val_acc did not improve from 0.91635\n",
      "Epoch 60/100\n",
      "13771/13771 [==============================] - 31s 2ms/step - loss: 0.0160 - acc: 0.9943 - val_loss: 0.5569 - val_acc: 0.9056\n",
      "\n",
      "Epoch 00060: val_acc did not improve from 0.91635\n",
      "Epoch 61/100\n",
      "13771/13771 [==============================] - 31s 2ms/step - loss: 0.0175 - acc: 0.9946 - val_loss: 0.4583 - val_acc: 0.9129\n",
      "\n",
      "Epoch 00061: val_acc did not improve from 0.91635\n",
      "Epoch 62/100\n",
      "13771/13771 [==============================] - 31s 2ms/step - loss: 0.0205 - acc: 0.9923 - val_loss: 0.4833 - val_acc: 0.9103\n",
      "\n",
      "Epoch 00062: val_acc did not improve from 0.91635\n",
      "Epoch 63/100\n",
      "13771/13771 [==============================] - 31s 2ms/step - loss: 0.0178 - acc: 0.9942 - val_loss: 0.5103 - val_acc: 0.9033\n",
      "\n",
      "Epoch 00063: val_acc did not improve from 0.91635\n",
      "Epoch 64/100\n",
      "13771/13771 [==============================] - 31s 2ms/step - loss: 0.0192 - acc: 0.9934 - val_loss: 0.4531 - val_acc: 0.9134\n",
      "\n",
      "Epoch 00064: val_acc did not improve from 0.91635\n",
      "Epoch 65/100\n",
      "13771/13771 [==============================] - 31s 2ms/step - loss: 0.0182 - acc: 0.9931 - val_loss: 0.4804 - val_acc: 0.9076\n",
      "\n",
      "Epoch 00065: val_acc did not improve from 0.91635\n",
      "Epoch 66/100\n",
      "13771/13771 [==============================] - 31s 2ms/step - loss: 0.0163 - acc: 0.9948 - val_loss: 0.5149 - val_acc: 0.9117\n",
      "\n",
      "Epoch 00066: val_acc did not improve from 0.91635\n",
      "Epoch 67/100\n",
      "13771/13771 [==============================] - 31s 2ms/step - loss: 0.0167 - acc: 0.9948 - val_loss: 0.4595 - val_acc: 0.9134\n",
      "\n",
      "Epoch 00067: val_acc did not improve from 0.91635\n",
      "Epoch 68/100\n",
      "13771/13771 [==============================] - 31s 2ms/step - loss: 0.0201 - acc: 0.9930 - val_loss: 0.5295 - val_acc: 0.9091\n",
      "\n",
      "Epoch 00068: val_acc did not improve from 0.91635\n",
      "Epoch 69/100\n",
      "13771/13771 [==============================] - 31s 2ms/step - loss: 0.0174 - acc: 0.9940 - val_loss: 0.5288 - val_acc: 0.9079\n",
      "\n",
      "Epoch 00069: val_acc did not improve from 0.91635\n",
      "Epoch 70/100\n",
      "13771/13771 [==============================] - 31s 2ms/step - loss: 0.0134 - acc: 0.9955 - val_loss: 0.5853 - val_acc: 0.9036\n",
      "\n",
      "Epoch 00070: val_acc did not improve from 0.91635\n",
      "Epoch 71/100\n",
      "13771/13771 [==============================] - 31s 2ms/step - loss: 0.0180 - acc: 0.9937 - val_loss: 0.6725 - val_acc: 0.8893\n",
      "\n",
      "Epoch 00071: val_acc did not improve from 0.91635\n",
      "Epoch 72/100\n",
      "13771/13771 [==============================] - 31s 2ms/step - loss: 0.0189 - acc: 0.9935 - val_loss: 0.5703 - val_acc: 0.9021\n",
      "\n",
      "Epoch 00072: val_acc did not improve from 0.91635\n",
      "Epoch 73/100\n",
      "13771/13771 [==============================] - 31s 2ms/step - loss: 0.0190 - acc: 0.9923 - val_loss: 0.5700 - val_acc: 0.8978\n",
      "\n",
      "Epoch 00073: val_acc did not improve from 0.91635\n",
      "Epoch 74/100\n",
      "13771/13771 [==============================] - 32s 2ms/step - loss: 0.0204 - acc: 0.9931 - val_loss: 0.5755 - val_acc: 0.8992\n",
      "\n",
      "Epoch 00074: val_acc did not improve from 0.91635\n",
      "Epoch 75/100\n",
      "13771/13771 [==============================] - 32s 2ms/step - loss: 0.0138 - acc: 0.9959 - val_loss: 0.5556 - val_acc: 0.9071\n",
      "\n",
      "Epoch 00075: val_acc did not improve from 0.91635\n",
      "Epoch 76/100\n",
      "13771/13771 [==============================] - 31s 2ms/step - loss: 0.0183 - acc: 0.9940 - val_loss: 0.4819 - val_acc: 0.9088\n",
      "\n",
      "Epoch 00076: val_acc did not improve from 0.91635\n",
      "Epoch 77/100\n",
      "13771/13771 [==============================] - 31s 2ms/step - loss: 0.0131 - acc: 0.9957 - val_loss: 0.5079 - val_acc: 0.9143\n",
      "\n",
      "Epoch 00077: val_acc did not improve from 0.91635\n",
      "Epoch 78/100\n",
      "13771/13771 [==============================] - 31s 2ms/step - loss: 0.0126 - acc: 0.9951 - val_loss: 0.5135 - val_acc: 0.9100\n",
      "\n",
      "Epoch 00078: val_acc did not improve from 0.91635\n",
      "Epoch 79/100\n",
      "13771/13771 [==============================] - 31s 2ms/step - loss: 0.0156 - acc: 0.9947 - val_loss: 0.5080 - val_acc: 0.9082\n",
      "\n",
      "Epoch 00079: val_acc did not improve from 0.91635\n",
      "Epoch 80/100\n",
      "13771/13771 [==============================] - 31s 2ms/step - loss: 0.0119 - acc: 0.9959 - val_loss: 0.5492 - val_acc: 0.9062\n",
      "\n",
      "Epoch 00080: val_acc did not improve from 0.91635\n",
      "Epoch 81/100\n",
      "13771/13771 [==============================] - 31s 2ms/step - loss: 0.0140 - acc: 0.9952 - val_loss: 0.5714 - val_acc: 0.9044\n",
      "\n",
      "Epoch 00081: val_acc did not improve from 0.91635\n",
      "Epoch 82/100\n",
      "13771/13771 [==============================] - 32s 2ms/step - loss: 0.0206 - acc: 0.9930 - val_loss: 0.4741 - val_acc: 0.9097\n",
      "\n",
      "Epoch 00082: val_acc did not improve from 0.91635\n",
      "Epoch 83/100\n"
     ]
    },
    {
     "name": "stdout",
     "output_type": "stream",
     "text": [
      "13771/13771 [==============================] - 30s 2ms/step - loss: 0.0142 - acc: 0.9940 - val_loss: 0.5536 - val_acc: 0.9030\n",
      "\n",
      "Epoch 00083: val_acc did not improve from 0.91635\n",
      "Epoch 84/100\n",
      "13771/13771 [==============================] - 30s 2ms/step - loss: 0.0152 - acc: 0.9944 - val_loss: 0.5758 - val_acc: 0.9039\n",
      "\n",
      "Epoch 00084: val_acc did not improve from 0.91635\n",
      "Epoch 85/100\n",
      "13771/13771 [==============================] - 31s 2ms/step - loss: 0.0163 - acc: 0.9949 - val_loss: 0.5507 - val_acc: 0.9053\n",
      "\n",
      "Epoch 00085: val_acc did not improve from 0.91635\n",
      "Epoch 86/100\n",
      "13771/13771 [==============================] - 31s 2ms/step - loss: 0.0092 - acc: 0.9970 - val_loss: 0.5781 - val_acc: 0.9079\n",
      "\n",
      "Epoch 00086: val_acc did not improve from 0.91635\n",
      "Epoch 87/100\n",
      "13771/13771 [==============================] - 31s 2ms/step - loss: 0.0200 - acc: 0.9926 - val_loss: 0.5011 - val_acc: 0.9091\n",
      "\n",
      "Epoch 00087: val_acc did not improve from 0.91635\n",
      "Epoch 88/100\n",
      "13771/13771 [==============================] - 31s 2ms/step - loss: 0.0126 - acc: 0.9953 - val_loss: 0.5479 - val_acc: 0.9027\n",
      "\n",
      "Epoch 00088: val_acc did not improve from 0.91635\n",
      "Epoch 89/100\n",
      "13771/13771 [==============================] - 31s 2ms/step - loss: 0.0125 - acc: 0.9953 - val_loss: 0.5618 - val_acc: 0.9076\n",
      "\n",
      "Epoch 00089: val_acc did not improve from 0.91635\n",
      "Epoch 90/100\n",
      "13771/13771 [==============================] - 31s 2ms/step - loss: 0.0067 - acc: 0.9970 - val_loss: 0.5962 - val_acc: 0.9073\n",
      "\n",
      "Epoch 00090: val_acc did not improve from 0.91635\n",
      "Epoch 91/100\n",
      "13771/13771 [==============================] - 31s 2ms/step - loss: 0.0220 - acc: 0.9924 - val_loss: 0.5595 - val_acc: 0.9082\n",
      "\n",
      "Epoch 00091: val_acc did not improve from 0.91635\n",
      "Epoch 92/100\n",
      "13771/13771 [==============================] - 31s 2ms/step - loss: 0.0128 - acc: 0.9959 - val_loss: 0.5343 - val_acc: 0.9082\n",
      "\n",
      "Epoch 00092: val_acc did not improve from 0.91635\n",
      "Epoch 93/100\n",
      "13771/13771 [==============================] - 31s 2ms/step - loss: 0.0145 - acc: 0.9950 - val_loss: 0.5200 - val_acc: 0.9073\n",
      "\n",
      "Epoch 00093: val_acc did not improve from 0.91635\n",
      "Epoch 94/100\n",
      "13771/13771 [==============================] - 31s 2ms/step - loss: 0.0085 - acc: 0.9968 - val_loss: 0.6210 - val_acc: 0.9044\n",
      "\n",
      "Epoch 00094: val_acc did not improve from 0.91635\n",
      "Epoch 95/100\n",
      "13771/13771 [==============================] - 31s 2ms/step - loss: 0.0134 - acc: 0.9948 - val_loss: 0.5659 - val_acc: 0.9033\n",
      "\n",
      "Epoch 00095: val_acc did not improve from 0.91635\n",
      "Epoch 96/100\n",
      "13771/13771 [==============================] - 31s 2ms/step - loss: 0.0164 - acc: 0.9940 - val_loss: 0.5130 - val_acc: 0.9079\n",
      "\n",
      "Epoch 00096: val_acc did not improve from 0.91635\n",
      "Epoch 97/100\n",
      "13771/13771 [==============================] - 31s 2ms/step - loss: 0.0071 - acc: 0.9978 - val_loss: 0.5743 - val_acc: 0.9091\n",
      "\n",
      "Epoch 00097: val_acc did not improve from 0.91635\n",
      "Epoch 98/100\n",
      "13771/13771 [==============================] - 31s 2ms/step - loss: 0.0145 - acc: 0.9954 - val_loss: 0.5243 - val_acc: 0.9097\n",
      "\n",
      "Epoch 00098: val_acc did not improve from 0.91635\n",
      "Epoch 99/100\n",
      "13771/13771 [==============================] - 31s 2ms/step - loss: 0.0145 - acc: 0.9943 - val_loss: 0.4926 - val_acc: 0.9105\n",
      "\n",
      "Epoch 00099: val_acc did not improve from 0.91635\n",
      "Epoch 100/100\n",
      "13771/13771 [==============================] - 31s 2ms/step - loss: 0.0184 - acc: 0.9939 - val_loss: 0.5258 - val_acc: 0.9094\n",
      "\n",
      "Epoch 00100: val_acc did not improve from 0.91635\n"
     ]
    }
   ],
   "source": [
    "filepath=\"weights_gender_letter_cnn-lstm.hdf5\"\n",
    "checkpoint = ModelCheckpoint(filepath, monitor='val_acc', verbose=1, save_best_only=True, mode='max')\n",
    "callbacks_list = [checkpoint]\n",
    "history=model.fit(input_train, target_train,validation_data=(input_val, target_val), shuffle=False, epochs=epoc, batch_size=batch_size,callbacks=callbacks_list)"
   ]
  },
  {
   "cell_type": "markdown",
   "metadata": {},
   "source": [
    "score acc"
   ]
  },
  {
   "cell_type": "code",
   "execution_count": 249,
   "metadata": {},
   "outputs": [
    {
     "name": "stdout",
     "output_type": "stream",
     "text": [
      "3443/3443 [==============================] - 2s 554us/step\n",
      "\n",
      "acc: 91.64%\n"
     ]
    }
   ],
   "source": [
    "model.load_weights(\"weights_gender_letter_cnn-lstm.hdf5\")\n",
    "scores = model.evaluate(input_val, target_val)\n",
    "print(\"\\n%s: %.2f%%\" % (model.metrics_names[1], scores[1]*100))"
   ]
  },
  {
   "cell_type": "code",
   "execution_count": 250,
   "metadata": {},
   "outputs": [
    {
     "name": "stdout",
     "output_type": "stream",
     "text": [
      "              precision    recall  f1-score   support\n",
      "\n",
      "        male       0.91      0.92      0.92      1738\n",
      "      female       0.92      0.91      0.91      1705\n",
      "\n",
      "   micro avg       0.92      0.92      0.92      3443\n",
      "   macro avg       0.92      0.92      0.92      3443\n",
      "weighted avg       0.92      0.92      0.92      3443\n",
      "\n"
     ]
    }
   ],
   "source": [
    "from sklearn.metrics import classification_report\n",
    "predict = model.predict_classes(input_val)\n",
    "y_true = target_val\n",
    "y_pred = predict\n",
    "target_names = ['male', 'female',]\n",
    "print (classification_report(y_true, y_pred, target_names=target_names))"
   ]
  },
  {
   "cell_type": "markdown",
   "metadata": {},
   "source": [
    "plot acc dan los"
   ]
  },
  {
   "cell_type": "code",
   "execution_count": 251,
   "metadata": {},
   "outputs": [
    {
     "data": {
      "image/png": "[encoded data removed]",
      "text/plain": [
       "<Figure size 432x288 with 1 Axes>"
      ]
     },
     "metadata": {
      "needs_background": "light"
     },
     "output_type": "display_data"
    }
   ],
   "source": [
    "# Plot training & validation accuracy values\n",
    "plt.plot(history.history['acc'])\n",
    "plt.plot(history.history['val_acc'])\n",
    "plt.title('Model accuracy')\n",
    "plt.ylabel('Accuracy')\n",
    "plt.xlabel('Epoch')\n",
    "plt.legend(['Train', 'Test'], loc='upper left')\n",
    "plt.show()"
   ]
  },
  {
   "cell_type": "code",
   "execution_count": 252,
   "metadata": {},
   "outputs": [
    {
     "data": {
      "image/png": "[encoded data removed]",
      "text/plain": [
       "<Figure size 432x288 with 1 Axes>"
      ]
     },
     "metadata": {
      "needs_background": "light"
     },
     "output_type": "display_data"
    }
   ],
   "source": [
    "# Plot training & validation loss values\n",
    "plt.plot(history.history['loss'])\n",
    "plt.plot(history.history['val_loss'])\n",
    "plt.title('Model loss')\n",
    "plt.ylabel('Loss')\n",
    "plt.xlabel('Epoch')\n",
    "plt.legend(['Train', 'Test'], loc='upper left')\n",
    "plt.show()"
   ]
  },
  {
   "cell_type": "markdown",
   "metadata": {},
   "source": [
    "build model cnn gru"
   ]
  },
  {
   "cell_type": "code",
   "execution_count": 229,
   "metadata": {},
   "outputs": [
    {
     "name": "stdout",
     "output_type": "stream",
     "text": [
      "_________________________________________________________________\n",
      "Layer (type)                 Output Shape              Param #   \n",
      "=================================================================\n",
      "embedding_10 (Embedding)     (None, 40, 128)           5120      \n",
      "_________________________________________________________________\n",
      "conv1d_10 (Conv1D)           (None, 40, 32)            12320     \n",
      "_________________________________________________________________\n",
      "max_pooling1d_6 (MaxPooling1 (None, 20, 32)            0         \n",
      "_________________________________________________________________\n",
      "dropout_16 (Dropout)         (None, 20, 32)            0         \n",
      "_________________________________________________________________\n",
      "conv1d_11 (Conv1D)           (None, 20, 64)            6208      \n",
      "_________________________________________________________________\n",
      "max_pooling1d_7 (MaxPooling1 (None, 10, 64)            0         \n",
      "_________________________________________________________________\n",
      "dropout_17 (Dropout)         (None, 10, 64)            0         \n",
      "_________________________________________________________________\n",
      "conv1d_12 (Conv1D)           (None, 10, 128)           24704     \n",
      "_________________________________________________________________\n",
      "max_pooling1d_8 (MaxPooling1 (None, 5, 128)            0         \n",
      "_________________________________________________________________\n",
      "dropout_18 (Dropout)         (None, 5, 128)            0         \n",
      "_________________________________________________________________\n",
      "gru_2 (GRU)                  (None, 5, 50)             26850     \n",
      "_________________________________________________________________\n",
      "dropout_19 (Dropout)         (None, 5, 50)             0         \n",
      "_________________________________________________________________\n",
      "flatten_2 (Flatten)          (None, 250)               0         \n",
      "_________________________________________________________________\n",
      "dense_15 (Dense)             (None, 128)               32128     \n",
      "_________________________________________________________________\n",
      "dropout_20 (Dropout)         (None, 128)               0         \n",
      "_________________________________________________________________\n",
      "dense_16 (Dense)             (None, 1)                 129       \n",
      "=================================================================\n",
      "Total params: 107,459\n",
      "Trainable params: 107,459\n",
      "Non-trainable params: 0\n",
      "_________________________________________________________________\n"
     ]
    }
   ],
   "source": [
    "model = Sequential()\n",
    "model.add(Embedding(nwords, embed_dim,input_length = input_train.shape[1],trainable=True))\n",
    "model.add(Conv1D(32,kernel_size=3,padding='same',activation='relu'))\n",
    "model.add(MaxPooling1D())\n",
    "model.add(Dropout(0.3))\n",
    "model.add(Conv1D(64,kernel_size=3,padding='same',activation='relu'))\n",
    "model.add(MaxPooling1D())\n",
    "model.add(Dropout(0.35))\n",
    "model.add(Conv1D(128,kernel_size=3,padding='same',activation='relu'))\n",
    "model.add(MaxPooling1D())\n",
    "model.add(Dropout(0.4))\n",
    "model.add(GRU(50,return_sequences=True))\n",
    "model.add(Dropout(0.25))\n",
    "model.add(Flatten())\n",
    "model.add(Dense(128,activation='relu'))\n",
    "model.add(Dropout(0.45))\n",
    "model.add(Dense(1, activation='sigmoid'))\n",
    "model.compile(loss='binary_crossentropy', optimizer='adam', metrics=['accuracy'])\n",
    "model.summary()"
   ]
  },
  {
   "cell_type": "markdown",
   "metadata": {},
   "source": [
    "save model"
   ]
  },
  {
   "cell_type": "code",
   "execution_count": null,
   "metadata": {},
   "outputs": [],
   "source": [
    "model_json = model.to_json()\n",
    "with open(\"model_gender_letter.json\", \"w\") as json_file:\n",
    "    json_file.write(model_json)"
   ]
  },
  {
   "cell_type": "markdown",
   "metadata": {},
   "source": [
    "set filepath utk save weights dan set callback untuk mengevaluasi bahwa hanya jika acc naik maka weights akan di save."
   ]
  },
  {
   "cell_type": "code",
   "execution_count": 230,
   "metadata": {
    "scrolled": true
   },
   "outputs": [
    {
     "name": "stdout",
     "output_type": "stream",
     "text": [
      "Train on 13771 samples, validate on 3443 samples\n",
      "Epoch 1/100\n",
      "13771/13771 [==============================] - 30s 2ms/step - loss: 0.4840 - acc: 0.7575 - val_loss: 0.3534 - val_acc: 0.8495\n",
      "\n",
      "Epoch 00001: val_acc improved from -inf to 0.84955, saving model to wweights_gender_letter_cnn-lstm2.hdf5\n",
      "Epoch 2/100\n",
      "13771/13771 [==============================] - 21s 2ms/step - loss: 0.3386 - acc: 0.8593 - val_loss: 0.2894 - val_acc: 0.8766\n",
      "\n",
      "Epoch 00002: val_acc improved from 0.84955 to 0.87656, saving model to wweights_gender_letter_cnn-lstm2.hdf5\n",
      "Epoch 3/100\n",
      "13771/13771 [==============================] - 20s 1ms/step - loss: 0.3091 - acc: 0.8706 - val_loss: 0.2896 - val_acc: 0.8795\n",
      "\n",
      "Epoch 00003: val_acc improved from 0.87656 to 0.87947, saving model to wweights_gender_letter_cnn-lstm2.hdf5\n",
      "Epoch 4/100\n",
      "13771/13771 [==============================] - 20s 1ms/step - loss: 0.2920 - acc: 0.8805 - val_loss: 0.2628 - val_acc: 0.8928\n",
      "\n",
      "Epoch 00004: val_acc improved from 0.87947 to 0.89283, saving model to wweights_gender_letter_cnn-lstm2.hdf5\n",
      "Epoch 5/100\n",
      "13771/13771 [==============================] - 23s 2ms/step - loss: 0.2827 - acc: 0.8845 - val_loss: 0.2361 - val_acc: 0.9062\n",
      "\n",
      "Epoch 00005: val_acc improved from 0.89283 to 0.90619, saving model to wweights_gender_letter_cnn-lstm2.hdf5\n",
      "Epoch 6/100\n",
      "13771/13771 [==============================] - 22s 2ms/step - loss: 0.2676 - acc: 0.8910 - val_loss: 0.2361 - val_acc: 0.9039\n",
      "\n",
      "Epoch 00006: val_acc did not improve from 0.90619\n",
      "Epoch 7/100\n",
      "13771/13771 [==============================] - 20s 1ms/step - loss: 0.2599 - acc: 0.8958 - val_loss: 0.2290 - val_acc: 0.9073\n",
      "\n",
      "Epoch 00007: val_acc improved from 0.90619 to 0.90735, saving model to wweights_gender_letter_cnn-lstm2.hdf5\n",
      "Epoch 8/100\n",
      "13771/13771 [==============================] - 20s 1ms/step - loss: 0.2550 - acc: 0.8977 - val_loss: 0.2306 - val_acc: 0.9079\n",
      "\n",
      "Epoch 00008: val_acc improved from 0.90735 to 0.90793, saving model to wweights_gender_letter_cnn-lstm2.hdf5\n",
      "Epoch 9/100\n",
      "13771/13771 [==============================] - 20s 1ms/step - loss: 0.2551 - acc: 0.8978 - val_loss: 0.2214 - val_acc: 0.9108\n",
      "\n",
      "Epoch 00009: val_acc improved from 0.90793 to 0.91083, saving model to wweights_gender_letter_cnn-lstm2.hdf5\n",
      "Epoch 10/100\n",
      "13771/13771 [==============================] - 20s 1ms/step - loss: 0.2479 - acc: 0.9013 - val_loss: 0.2181 - val_acc: 0.9085\n",
      "\n",
      "Epoch 00010: val_acc did not improve from 0.91083\n",
      "Epoch 11/100\n",
      "13771/13771 [==============================] - 21s 2ms/step - loss: 0.2480 - acc: 0.8988 - val_loss: 0.2110 - val_acc: 0.9164\n",
      "\n",
      "Epoch 00011: val_acc improved from 0.91083 to 0.91635, saving model to wweights_gender_letter_cnn-lstm2.hdf5\n",
      "Epoch 12/100\n",
      "13771/13771 [==============================] - 19s 1ms/step - loss: 0.2376 - acc: 0.9033 - val_loss: 0.2194 - val_acc: 0.9126\n",
      "\n",
      "Epoch 00012: val_acc did not improve from 0.91635\n",
      "Epoch 13/100\n",
      "13771/13771 [==============================] - 20s 1ms/step - loss: 0.2346 - acc: 0.9085 - val_loss: 0.2131 - val_acc: 0.9146\n",
      "\n",
      "Epoch 00013: val_acc did not improve from 0.91635\n",
      "Epoch 14/100\n",
      "13771/13771 [==============================] - 23s 2ms/step - loss: 0.2310 - acc: 0.9086 - val_loss: 0.2157 - val_acc: 0.9137\n",
      "\n",
      "Epoch 00014: val_acc did not improve from 0.91635\n",
      "Epoch 15/100\n",
      "13771/13771 [==============================] - 22s 2ms/step - loss: 0.2288 - acc: 0.9056 - val_loss: 0.2143 - val_acc: 0.9146\n",
      "\n",
      "Epoch 00015: val_acc did not improve from 0.91635\n",
      "Epoch 16/100\n",
      "13771/13771 [==============================] - 18s 1ms/step - loss: 0.2264 - acc: 0.9108 - val_loss: 0.2063 - val_acc: 0.9178\n",
      "\n",
      "Epoch 00016: val_acc improved from 0.91635 to 0.91780, saving model to wweights_gender_letter_cnn-lstm2.hdf5\n",
      "Epoch 17/100\n",
      "13771/13771 [==============================] - 20s 1ms/step - loss: 0.2217 - acc: 0.9110 - val_loss: 0.2067 - val_acc: 0.9210\n",
      "\n",
      "Epoch 00017: val_acc improved from 0.91780 to 0.92100, saving model to wweights_gender_letter_cnn-lstm2.hdf5\n",
      "Epoch 18/100\n",
      "13771/13771 [==============================] - 19s 1ms/step - loss: 0.2227 - acc: 0.9133 - val_loss: 0.2101 - val_acc: 0.9210\n",
      "\n",
      "Epoch 00018: val_acc did not improve from 0.92100\n",
      "Epoch 19/100\n",
      "13771/13771 [==============================] - 18s 1ms/step - loss: 0.2203 - acc: 0.9140 - val_loss: 0.2007 - val_acc: 0.9193\n",
      "\n",
      "Epoch 00019: val_acc did not improve from 0.92100\n",
      "Epoch 20/100\n",
      "13771/13771 [==============================] - 19s 1ms/step - loss: 0.2201 - acc: 0.9134 - val_loss: 0.2001 - val_acc: 0.9245\n",
      "\n",
      "Epoch 00020: val_acc improved from 0.92100 to 0.92448, saving model to wweights_gender_letter_cnn-lstm2.hdf5\n",
      "Epoch 21/100\n",
      "13771/13771 [==============================] - 19s 1ms/step - loss: 0.2153 - acc: 0.9154 - val_loss: 0.2015 - val_acc: 0.9239\n",
      "\n",
      "Epoch 00021: val_acc did not improve from 0.92448\n",
      "Epoch 22/100\n",
      "13771/13771 [==============================] - 18s 1ms/step - loss: 0.2129 - acc: 0.9165 - val_loss: 0.2039 - val_acc: 0.9201\n",
      "\n",
      "Epoch 00022: val_acc did not improve from 0.92448\n",
      "Epoch 23/100\n",
      "13771/13771 [==============================] - 18s 1ms/step - loss: 0.2095 - acc: 0.9165 - val_loss: 0.1987 - val_acc: 0.9222\n",
      "\n",
      "Epoch 00023: val_acc did not improve from 0.92448\n",
      "Epoch 24/100\n",
      "13771/13771 [==============================] - 18s 1ms/step - loss: 0.2079 - acc: 0.9169 - val_loss: 0.2009 - val_acc: 0.9181\n",
      "\n",
      "Epoch 00024: val_acc did not improve from 0.92448\n",
      "Epoch 25/100\n",
      "13771/13771 [==============================] - 18s 1ms/step - loss: 0.2076 - acc: 0.9195 - val_loss: 0.1913 - val_acc: 0.9262\n",
      "\n",
      "Epoch 00025: val_acc improved from 0.92448 to 0.92623, saving model to wweights_gender_letter_cnn-lstm2.hdf5\n",
      "Epoch 26/100\n",
      "13771/13771 [==============================] - 18s 1ms/step - loss: 0.2081 - acc: 0.9160 - val_loss: 0.1984 - val_acc: 0.9216\n",
      "\n",
      "Epoch 00026: val_acc did not improve from 0.92623\n",
      "Epoch 27/100\n",
      "13771/13771 [==============================] - 22s 2ms/step - loss: 0.2070 - acc: 0.9204 - val_loss: 0.1991 - val_acc: 0.9248\n",
      "\n",
      "Epoch 00027: val_acc did not improve from 0.92623\n",
      "Epoch 28/100\n",
      "13771/13771 [==============================] - 23s 2ms/step - loss: 0.2049 - acc: 0.9166 - val_loss: 0.1970 - val_acc: 0.9271\n",
      "\n",
      "Epoch 00028: val_acc improved from 0.92623 to 0.92710, saving model to wweights_gender_letter_cnn-lstm2.hdf5\n",
      "Epoch 29/100\n",
      "13771/13771 [==============================] - 23s 2ms/step - loss: 0.2005 - acc: 0.9211 - val_loss: 0.1955 - val_acc: 0.9256\n",
      "\n",
      "Epoch 00029: val_acc did not improve from 0.92710\n",
      "Epoch 30/100\n",
      "13771/13771 [==============================] - 21s 2ms/step - loss: 0.2015 - acc: 0.9208 - val_loss: 0.2080 - val_acc: 0.9213\n",
      "\n",
      "Epoch 00030: val_acc did not improve from 0.92710\n",
      "Epoch 31/100\n",
      "13771/13771 [==============================] - 21s 2ms/step - loss: 0.1975 - acc: 0.9241 - val_loss: 0.2008 - val_acc: 0.9268\n",
      "\n",
      "Epoch 00031: val_acc did not improve from 0.92710\n",
      "Epoch 32/100\n",
      "13771/13771 [==============================] - 21s 2ms/step - loss: 0.1956 - acc: 0.9230 - val_loss: 0.2047 - val_acc: 0.9242\n",
      "\n",
      "Epoch 00032: val_acc did not improve from 0.92710\n",
      "Epoch 33/100\n",
      "13771/13771 [==============================] - 21s 1ms/step - loss: 0.1959 - acc: 0.9240 - val_loss: 0.2013 - val_acc: 0.9251\n",
      "\n",
      "Epoch 00033: val_acc did not improve from 0.92710\n",
      "Epoch 34/100\n",
      "13771/13771 [==============================] - 21s 1ms/step - loss: 0.1944 - acc: 0.9235 - val_loss: 0.1978 - val_acc: 0.9236\n",
      "\n",
      "Epoch 00034: val_acc did not improve from 0.92710\n",
      "Epoch 35/100\n",
      "13771/13771 [==============================] - 20s 1ms/step - loss: 0.1944 - acc: 0.9230 - val_loss: 0.1969 - val_acc: 0.9248\n",
      "\n",
      "Epoch 00035: val_acc did not improve from 0.92710\n",
      "Epoch 36/100\n",
      "13771/13771 [==============================] - 20s 1ms/step - loss: 0.1974 - acc: 0.9236 - val_loss: 0.1961 - val_acc: 0.9271\n",
      "\n",
      "Epoch 00036: val_acc did not improve from 0.92710\n",
      "Epoch 37/100\n",
      "13771/13771 [==============================] - 20s 1ms/step - loss: 0.1850 - acc: 0.9257 - val_loss: 0.2049 - val_acc: 0.9233\n",
      "\n",
      "Epoch 00037: val_acc did not improve from 0.92710\n",
      "Epoch 38/100\n",
      "13771/13771 [==============================] - 20s 1ms/step - loss: 0.1990 - acc: 0.9211 - val_loss: 0.1956 - val_acc: 0.9271\n",
      "\n",
      "Epoch 00038: val_acc did not improve from 0.92710\n",
      "Epoch 39/100\n",
      "13771/13771 [==============================] - 19s 1ms/step - loss: 0.1891 - acc: 0.9259 - val_loss: 0.1929 - val_acc: 0.9271\n",
      "\n",
      "Epoch 00039: val_acc did not improve from 0.92710\n",
      "Epoch 40/100\n",
      "13771/13771 [==============================] - 19s 1ms/step - loss: 0.1939 - acc: 0.9236 - val_loss: 0.1991 - val_acc: 0.9227\n",
      "\n",
      "Epoch 00040: val_acc did not improve from 0.92710\n",
      "Epoch 41/100\n",
      "13771/13771 [==============================] - 19s 1ms/step - loss: 0.1950 - acc: 0.9234 - val_loss: 0.1995 - val_acc: 0.9268\n",
      "\n",
      "Epoch 00041: val_acc did not improve from 0.92710\n",
      "Epoch 42/100\n",
      "13771/13771 [==============================] - 20s 1ms/step - loss: 0.1944 - acc: 0.9251 - val_loss: 0.1954 - val_acc: 0.9280\n",
      "\n",
      "Epoch 00042: val_acc improved from 0.92710 to 0.92797, saving model to wweights_gender_letter_cnn-lstm2.hdf5\n",
      "Epoch 43/100\n",
      "13771/13771 [==============================] - 19s 1ms/step - loss: 0.1911 - acc: 0.9261 - val_loss: 0.1957 - val_acc: 0.9288\n",
      "\n",
      "Epoch 00043: val_acc improved from 0.92797 to 0.92884, saving model to wweights_gender_letter_cnn-lstm2.hdf5\n",
      "Epoch 44/100\n",
      "13771/13771 [==============================] - 21s 2ms/step - loss: 0.1852 - acc: 0.9254 - val_loss: 0.1906 - val_acc: 0.9274\n",
      "\n",
      "Epoch 00044: val_acc did not improve from 0.92884\n",
      "Epoch 45/100\n",
      "13771/13771 [==============================] - 20s 1ms/step - loss: 0.1874 - acc: 0.9279 - val_loss: 0.1907 - val_acc: 0.9309\n",
      "\n",
      "Epoch 00045: val_acc improved from 0.92884 to 0.93087, saving model to wweights_gender_letter_cnn-lstm2.hdf5\n",
      "Epoch 46/100\n",
      "13771/13771 [==============================] - 22s 2ms/step - loss: 0.1820 - acc: 0.9307 - val_loss: 0.1901 - val_acc: 0.9320\n",
      "\n",
      "Epoch 00046: val_acc improved from 0.93087 to 0.93204, saving model to wweights_gender_letter_cnn-lstm2.hdf5\n",
      "Epoch 47/100\n",
      "13771/13771 [==============================] - 20s 1ms/step - loss: 0.1931 - acc: 0.9267 - val_loss: 0.1913 - val_acc: 0.9271\n",
      "\n",
      "Epoch 00047: val_acc did not improve from 0.93204\n",
      "Epoch 48/100\n",
      "13771/13771 [==============================] - 21s 2ms/step - loss: 0.1888 - acc: 0.9263 - val_loss: 0.1898 - val_acc: 0.9251\n",
      "\n",
      "Epoch 00048: val_acc did not improve from 0.93204\n",
      "Epoch 49/100\n",
      "13771/13771 [==============================] - 22s 2ms/step - loss: 0.1898 - acc: 0.9275 - val_loss: 0.1880 - val_acc: 0.9274\n",
      "\n",
      "Epoch 00049: val_acc did not improve from 0.93204\n",
      "Epoch 50/100\n",
      "13771/13771 [==============================] - 25s 2ms/step - loss: 0.1804 - acc: 0.9263 - val_loss: 0.1981 - val_acc: 0.9271- loss: 0.1800 - acc: 0.9\n",
      "\n",
      "Epoch 00050: val_acc did not improve from 0.93204\n",
      "Epoch 51/100\n",
      "13771/13771 [==============================] - 22s 2ms/step - loss: 0.1901 - acc: 0.9254 - val_loss: 0.1967 - val_acc: 0.9248\n",
      "\n",
      "Epoch 00051: val_acc did not improve from 0.93204\n",
      "Epoch 52/100\n",
      "13771/13771 [==============================] - 21s 1ms/step - loss: 0.1861 - acc: 0.9280 - val_loss: 0.1983 - val_acc: 0.9230\n",
      "\n",
      "Epoch 00052: val_acc did not improve from 0.93204\n",
      "Epoch 53/100\n",
      "13771/13771 [==============================] - 23s 2ms/step - loss: 0.1850 - acc: 0.9258 - val_loss: 0.1917 - val_acc: 0.9277\n",
      "\n",
      "Epoch 00053: val_acc did not improve from 0.93204\n",
      "Epoch 54/100\n",
      "13771/13771 [==============================] - 22s 2ms/step - loss: 0.1843 - acc: 0.9279 - val_loss: 0.1983 - val_acc: 0.9251\n",
      "\n",
      "Epoch 00054: val_acc did not improve from 0.93204\n",
      "Epoch 55/100\n",
      "13771/13771 [==============================] - 21s 2ms/step - loss: 0.1822 - acc: 0.9283 - val_loss: 0.1946 - val_acc: 0.9271\n",
      "\n",
      "Epoch 00055: val_acc did not improve from 0.93204\n",
      "Epoch 56/100\n",
      "13771/13771 [==============================] - 24s 2ms/step - loss: 0.1847 - acc: 0.9275 - val_loss: 0.1888 - val_acc: 0.93176 - ETA: 2s - l - ETA: 0s - loss: 0.1850\n",
      "\n",
      "Epoch 00056: val_acc did not improve from 0.93204\n",
      "Epoch 57/100\n",
      "13771/13771 [==============================] - 25s 2ms/step - loss: 0.1845 - acc: 0.9279 - val_loss: 0.1888 - val_acc: 0.9271\n",
      "\n",
      "Epoch 00057: val_acc did not improve from 0.93204\n",
      "Epoch 58/100\n",
      "13771/13771 [==============================] - 22s 2ms/step - loss: 0.1837 - acc: 0.9275 - val_loss: 0.1890 - val_acc: 0.9265\n",
      "\n",
      "Epoch 00058: val_acc did not improve from 0.93204\n",
      "Epoch 59/100\n",
      "13771/13771 [==============================] - 19s 1ms/step - loss: 0.1788 - acc: 0.9286 - val_loss: 0.1926 - val_acc: 0.9291\n",
      "\n",
      "Epoch 00059: val_acc did not improve from 0.93204\n",
      "Epoch 60/100\n",
      "13771/13771 [==============================] - 21s 1ms/step - loss: 0.1798 - acc: 0.9300 - val_loss: 0.1919 - val_acc: 0.9271\n",
      "\n",
      "Epoch 00060: val_acc did not improve from 0.93204\n",
      "Epoch 61/100\n",
      "13771/13771 [==============================] - 20s 1ms/step - loss: 0.1823 - acc: 0.9280 - val_loss: 0.1944 - val_acc: 0.9268\n",
      "\n",
      "Epoch 00061: val_acc did not improve from 0.93204\n",
      "Epoch 62/100\n",
      "13771/13771 [==============================] - 22s 2ms/step - loss: 0.1787 - acc: 0.9294 - val_loss: 0.1936 - val_acc: 0.9277\n",
      "\n",
      "Epoch 00062: val_acc did not improve from 0.93204\n",
      "Epoch 63/100\n",
      "13771/13771 [==============================] - 22s 2ms/step - loss: 0.1818 - acc: 0.9263 - val_loss: 0.1900 - val_acc: 0.9294\n",
      "\n",
      "Epoch 00063: val_acc did not improve from 0.93204\n",
      "Epoch 64/100\n",
      "13771/13771 [==============================] - 21s 1ms/step - loss: 0.1786 - acc: 0.9327 - val_loss: 0.1993 - val_acc: 0.9277\n",
      "\n",
      "Epoch 00064: val_acc did not improve from 0.93204\n",
      "Epoch 65/100\n",
      "13771/13771 [==============================] - 23s 2ms/step - loss: 0.1816 - acc: 0.9303 - val_loss: 0.1902 - val_acc: 0.9259\n",
      "\n",
      "Epoch 00065: val_acc did not improve from 0.93204\n",
      "Epoch 66/100\n",
      "13771/13771 [==============================] - 23s 2ms/step - loss: 0.1774 - acc: 0.9316 - val_loss: 0.1906 - val_acc: 0.9280\n",
      "\n",
      "Epoch 00066: val_acc did not improve from 0.93204\n",
      "Epoch 67/100\n",
      "13771/13771 [==============================] - 21s 2ms/step - loss: 0.1837 - acc: 0.9280 - val_loss: 0.1929 - val_acc: 0.9271\n",
      "\n",
      "Epoch 00067: val_acc did not improve from 0.93204\n",
      "Epoch 68/100\n",
      "13771/13771 [==============================] - 22s 2ms/step - loss: 0.1709 - acc: 0.9359 - val_loss: 0.1913 - val_acc: 0.9265\n",
      "\n",
      "Epoch 00068: val_acc did not improve from 0.93204\n",
      "Epoch 69/100\n",
      "13771/13771 [==============================] - 21s 2ms/step - loss: 0.1793 - acc: 0.9299 - val_loss: 0.1895 - val_acc: 0.9251\n",
      "\n",
      "Epoch 00069: val_acc did not improve from 0.93204\n",
      "Epoch 70/100\n",
      "13771/13771 [==============================] - 22s 2ms/step - loss: 0.1771 - acc: 0.9328 - val_loss: 0.1887 - val_acc: 0.9274\n",
      "\n",
      "Epoch 00070: val_acc did not improve from 0.93204\n",
      "Epoch 71/100\n",
      "13771/13771 [==============================] - 26s 2ms/step - loss: 0.1781 - acc: 0.9318 - val_loss: 0.1941 - val_acc: 0.9254\n",
      "\n",
      "Epoch 00071: val_acc did not improve from 0.93204\n",
      "Epoch 72/100\n",
      "13771/13771 [==============================] - 24s 2ms/step - loss: 0.1732 - acc: 0.9342 - val_loss: 0.2019 - val_acc: 0.9254\n",
      "\n",
      "Epoch 00072: val_acc did not improve from 0.93204\n",
      "Epoch 73/100\n",
      "13771/13771 [==============================] - 19s 1ms/step - loss: 0.1775 - acc: 0.9320 - val_loss: 0.1967 - val_acc: 0.9210\n",
      "\n",
      "Epoch 00073: val_acc did not improve from 0.93204\n",
      "Epoch 74/100\n",
      "13771/13771 [==============================] - 19s 1ms/step - loss: 0.1771 - acc: 0.9325 - val_loss: 0.2001 - val_acc: 0.9248\n",
      "\n",
      "Epoch 00074: val_acc did not improve from 0.93204\n",
      "Epoch 75/100\n",
      "13771/13771 [==============================] - 17s 1ms/step - loss: 0.1773 - acc: 0.9290 - val_loss: 0.1949 - val_acc: 0.9254\n",
      "\n",
      "Epoch 00075: val_acc did not improve from 0.93204\n",
      "Epoch 76/100\n",
      "13771/13771 [==============================] - 17s 1ms/step - loss: 0.1758 - acc: 0.9316 - val_loss: 0.1983 - val_acc: 0.9225\n",
      "\n",
      "Epoch 00076: val_acc did not improve from 0.93204\n",
      "Epoch 77/100\n",
      "13771/13771 [==============================] - 17s 1ms/step - loss: 0.1711 - acc: 0.9334 - val_loss: 0.1963 - val_acc: 0.9242\n",
      "\n",
      "Epoch 00077: val_acc did not improve from 0.93204\n",
      "Epoch 78/100\n",
      "13771/13771 [==============================] - 18s 1ms/step - loss: 0.1736 - acc: 0.9328 - val_loss: 0.1947 - val_acc: 0.9242\n",
      "\n",
      "Epoch 00078: val_acc did not improve from 0.93204\n",
      "Epoch 79/100\n",
      "13771/13771 [==============================] - 17s 1ms/step - loss: 0.1709 - acc: 0.9336 - val_loss: 0.1884 - val_acc: 0.9256\n",
      "\n",
      "Epoch 00079: val_acc did not improve from 0.93204\n",
      "Epoch 80/100\n"
     ]
    },
    {
     "name": "stdout",
     "output_type": "stream",
     "text": [
      "13771/13771 [==============================] - 18s 1ms/step - loss: 0.1704 - acc: 0.9336 - val_loss: 0.1883 - val_acc: 0.9254\n",
      "\n",
      "Epoch 00080: val_acc did not improve from 0.93204\n",
      "Epoch 81/100\n",
      "13771/13771 [==============================] - 21s 2ms/step - loss: 0.1679 - acc: 0.9326 - val_loss: 0.1891 - val_acc: 0.9268\n",
      "\n",
      "Epoch 00081: val_acc did not improve from 0.93204\n",
      "Epoch 82/100\n",
      "13771/13771 [==============================] - 20s 1ms/step - loss: 0.1713 - acc: 0.9341 - val_loss: 0.2014 - val_acc: 0.9233\n",
      "\n",
      "Epoch 00082: val_acc did not improve from 0.93204\n",
      "Epoch 83/100\n",
      "13771/13771 [==============================] - 20s 1ms/step - loss: 0.1717 - acc: 0.9338 - val_loss: 0.1954 - val_acc: 0.9280\n",
      "\n",
      "Epoch 00083: val_acc did not improve from 0.93204\n",
      "Epoch 84/100\n",
      "13771/13771 [==============================] - 20s 1ms/step - loss: 0.1693 - acc: 0.9341 - val_loss: 0.1973 - val_acc: 0.9259 0s - loss: 0.1702 - acc\n",
      "\n",
      "Epoch 00084: val_acc did not improve from 0.93204\n",
      "Epoch 85/100\n",
      "13771/13771 [==============================] - 18s 1ms/step - loss: 0.1726 - acc: 0.9339 - val_loss: 0.1872 - val_acc: 0.9303\n",
      "\n",
      "Epoch 00085: val_acc did not improve from 0.93204\n",
      "Epoch 86/100\n",
      "13771/13771 [==============================] - 18s 1ms/step - loss: 0.1684 - acc: 0.9338 - val_loss: 0.1907 - val_acc: 0.9265\n",
      "\n",
      "Epoch 00086: val_acc did not improve from 0.93204\n",
      "Epoch 87/100\n",
      "13771/13771 [==============================] - 20s 1ms/step - loss: 0.1735 - acc: 0.9353 - val_loss: 0.1957 - val_acc: 0.9254\n",
      "\n",
      "Epoch 00087: val_acc did not improve from 0.93204\n",
      "Epoch 88/100\n",
      "13771/13771 [==============================] - 21s 2ms/step - loss: 0.1736 - acc: 0.9336 - val_loss: 0.1959 - val_acc: 0.9222\n",
      "\n",
      "Epoch 00088: val_acc did not improve from 0.93204\n",
      "Epoch 89/100\n",
      "13771/13771 [==============================] - 19s 1ms/step - loss: 0.1676 - acc: 0.9352 - val_loss: 0.2027 - val_acc: 0.9291\n",
      "\n",
      "Epoch 00089: val_acc did not improve from 0.93204\n",
      "Epoch 90/100\n",
      "13771/13771 [==============================] - 20s 1ms/step - loss: 0.1693 - acc: 0.9357 - val_loss: 0.1964 - val_acc: 0.9236\n",
      "\n",
      "Epoch 00090: val_acc did not improve from 0.93204\n",
      "Epoch 91/100\n",
      "13771/13771 [==============================] - 20s 1ms/step - loss: 0.1667 - acc: 0.9352 - val_loss: 0.1941 - val_acc: 0.9251\n",
      "\n",
      "Epoch 00091: val_acc did not improve from 0.93204\n",
      "Epoch 92/100\n",
      "13771/13771 [==============================] - 23s 2ms/step - loss: 0.1678 - acc: 0.9359 - val_loss: 0.1936 - val_acc: 0.9286\n",
      "\n",
      "Epoch 00092: val_acc did not improve from 0.93204\n",
      "Epoch 93/100\n",
      "13771/13771 [==============================] - 22s 2ms/step - loss: 0.1730 - acc: 0.9340 - val_loss: 0.1891 - val_acc: 0.9265\n",
      "\n",
      "Epoch 00093: val_acc did not improve from 0.93204\n",
      "Epoch 94/100\n",
      "13771/13771 [==============================] - 21s 2ms/step - loss: 0.1695 - acc: 0.9321 - val_loss: 0.1975 - val_acc: 0.9262\n",
      "\n",
      "Epoch 00094: val_acc did not improve from 0.93204\n",
      "Epoch 95/100\n",
      "13771/13771 [==============================] - 22s 2ms/step - loss: 0.1661 - acc: 0.9360 - val_loss: 0.1893 - val_acc: 0.9277 \n",
      "\n",
      "Epoch 00095: val_acc did not improve from 0.93204\n",
      "Epoch 96/100\n",
      "13771/13771 [==============================] - 22s 2ms/step - loss: 0.1663 - acc: 0.9352 - val_loss: 0.1997 - val_acc: 0.9271\n",
      "\n",
      "Epoch 00096: val_acc did not improve from 0.93204\n",
      "Epoch 97/100\n",
      "13771/13771 [==============================] - 24s 2ms/step - loss: 0.1658 - acc: 0.9360 - val_loss: 0.1926 - val_acc: 0.9286\n",
      "\n",
      "Epoch 00097: val_acc did not improve from 0.93204\n",
      "Epoch 98/100\n",
      "13771/13771 [==============================] - 22s 2ms/step - loss: 0.1644 - acc: 0.9363 - val_loss: 0.2005 - val_acc: 0.9259\n",
      "\n",
      "Epoch 00098: val_acc did not improve from 0.93204\n",
      "Epoch 99/100\n",
      "13771/13771 [==============================] - 21s 2ms/step - loss: 0.1720 - acc: 0.9333 - val_loss: 0.1972 - val_acc: 0.9274\n",
      "\n",
      "Epoch 00099: val_acc did not improve from 0.93204\n",
      "Epoch 100/100\n",
      "13771/13771 [==============================] - 21s 2ms/step - loss: 0.1673 - acc: 0.9358 - val_loss: 0.2103 - val_acc: 0.9242\n",
      "\n",
      "Epoch 00100: val_acc did not improve from 0.93204\n"
     ]
    }
   ],
   "source": [
    "filepath=\"weights_gender_letter_cnn-lstm2.hdf5\"\n",
    "checkpoint = ModelCheckpoint(filepath, monitor='val_acc', verbose=1, save_best_only=True, mode='max')\n",
    "callbacks_list = [checkpoint]\n",
    "history=model.fit(input_train, target_train,validation_data=(input_val, target_val), shuffle=False, epochs=epoc, batch_size=batch_size,callbacks=callbacks_list)"
   ]
  },
  {
   "cell_type": "markdown",
   "metadata": {},
   "source": [
    "score acc"
   ]
  },
  {
   "cell_type": "code",
   "execution_count": 231,
   "metadata": {},
   "outputs": [
    {
     "name": "stdout",
     "output_type": "stream",
     "text": [
      "3443/3443 [==============================] - 1s 436us/step\n",
      "\n",
      "acc: 93.20%\n"
     ]
    }
   ],
   "source": [
    "model.load_weights(\"weights_gender_letter_cnn-lstm2.hdf5\")\n",
    "scores = model.evaluate(input_val, target_val)\n",
    "print(\"\\n%s: %.2f%%\" % (model.metrics_names[1], scores[1]*100))"
   ]
  },
  {
   "cell_type": "code",
   "execution_count": 232,
   "metadata": {},
   "outputs": [
    {
     "name": "stdout",
     "output_type": "stream",
     "text": [
      "              precision    recall  f1-score   support\n",
      "\n",
      "        male       0.94      0.93      0.93      1738\n",
      "      female       0.93      0.93      0.93      1705\n",
      "\n",
      "   micro avg       0.93      0.93      0.93      3443\n",
      "   macro avg       0.93      0.93      0.93      3443\n",
      "weighted avg       0.93      0.93      0.93      3443\n",
      "\n"
     ]
    }
   ],
   "source": [
    "from sklearn.metrics import classification_report\n",
    "predict = model.predict_classes(input_val)\n",
    "y_true = target_val\n",
    "y_pred = predict\n",
    "target_names = ['male', 'female',]\n",
    "print (classification_report(y_true, y_pred, target_names=target_names))"
   ]
  },
  {
   "cell_type": "markdown",
   "metadata": {},
   "source": [
    "plot acc dan loss"
   ]
  },
  {
   "cell_type": "code",
   "execution_count": 233,
   "metadata": {},
   "outputs": [
    {
     "data": {
      "image/png": "[encoded data removed]",
      "text/plain": [
       "<Figure size 432x288 with 1 Axes>"
      ]
     },
     "metadata": {
      "needs_background": "light"
     },
     "output_type": "display_data"
    }
   ],
   "source": [
    "# Plot training & validation accuracy values\n",
    "plt.plot(history.history['acc'])\n",
    "plt.plot(history.history['val_acc'])\n",
    "plt.title('Model accuracy')\n",
    "plt.ylabel('Accuracy')\n",
    "plt.xlabel('Epoch')\n",
    "plt.legend(['Train', 'Test'], loc='upper left')\n",
    "plt.show()"
   ]
  },
  {
   "cell_type": "code",
   "execution_count": 234,
   "metadata": {},
   "outputs": [
    {
     "data": {
      "image/png": "[encoded data removed]",
      "text/plain": [
       "<Figure size 432x288 with 1 Axes>"
      ]
     },
     "metadata": {
      "needs_background": "light"
     },
     "output_type": "display_data"
    }
   ],
   "source": [
    "# Plot training & validation loss values\n",
    "plt.plot(history.history['loss'])\n",
    "plt.plot(history.history['val_loss'])\n",
    "plt.title('Model loss')\n",
    "plt.ylabel('Loss')\n",
    "plt.xlabel('Epoch')\n",
    "plt.legend(['Train', 'Test'], loc='upper left')\n",
    "plt.show()"
   ]
  },
  {
   "cell_type": "markdown",
   "metadata": {},
   "source": [
    "# Predict"
   ]
  },
  {
   "cell_type": "code",
   "execution_count": 268,
   "metadata": {},
   "outputs": [],
   "source": [
    "nama=\"Choiril Kurniawan\""
   ]
  },
  {
   "cell_type": "code",
   "execution_count": 269,
   "metadata": {},
   "outputs": [],
   "source": [
    "nama=nama.lower()\n",
    "nama= list(nama)\n",
    "tmp=[]\n",
    "tmp.append(nama)\n",
    "tmp.append(nama)\n",
    "sequences = tokenizer.texts_to_sequences(tmp) \n",
    "input_seq = pad_sequences(sequences, maxlen=maxleng+3)"
   ]
  },
  {
   "cell_type": "code",
   "execution_count": 270,
   "metadata": {},
   "outputs": [
    {
     "name": "stdout",
     "output_type": "stream",
     "text": [
      "[0]\n"
     ]
    }
   ],
   "source": [
    "# male   : 0\n",
    "# female : 1\n",
    "result=model.predict_classes(input_seq)\n",
    "print(result[0])"
   ]
  }
 ],
 "metadata": {
  "kernelspec": {
   "display_name": "Python 3",
   "language": "python",
   "name": "python3"
  },
  "language_info": {
   "codemirror_mode": {
    "name": "ipython",
    "version": 3
   },
   "file_extension": ".py",
   "mimetype": "text/x-python",
   "name": "python",
   "nbconvert_exporter": "python",
   "pygments_lexer": "ipython3",
   "version": "3.6.8"
  }
 },
 "nbformat": 4,
 "nbformat_minor": 2
}
